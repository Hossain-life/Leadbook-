{
 "cells": [
  {
   "cell_type": "code",
   "execution_count": 279,
   "metadata": {},
   "outputs": [],
   "source": [
    "import requests\n",
    "import json\n",
    "from bs4 import BeautifulSoup"
   ]
  },
  {
   "cell_type": "markdown",
   "metadata": {},
   "source": [
    "Checking whether response is in json format or not."
   ]
  },
  {
   "cell_type": "code",
   "execution_count": 280,
   "metadata": {},
   "outputs": [
    {
     "name": "stdout",
     "output_type": "stream",
     "text": [
      "Other error occurred: Expecting value: line 1 column 1 (char 0)\n"
     ]
    }
   ],
   "source": [
    "from requests.exceptions import HTTPError\n",
    "\n",
    "try:\n",
    "    response = requests.get('https://www.adapt.io/directory/industry/telecommunications/A-1')\n",
    "    response.raise_for_status()\n",
    "    # access JSOn content\n",
    "    jsonResponse = response.json()\n",
    "    print(\"Entire JSON response\")\n",
    "    print(jsonResponse)\n",
    "\n",
    "except HTTPError as http_err:\n",
    "    print(f'HTTP error occurred: {http_err}')\n",
    "except Exception as err:\n",
    "    print(f'Other error occurred: {err}')"
   ]
  },
  {
   "cell_type": "code",
   "execution_count": 172,
   "metadata": {},
   "outputs": [
    {
     "name": "stdout",
     "output_type": "stream",
     "text": [
      "Requirement already satisfied: xmltodict in c:\\users\\dell\\anaconda3\\lib\\site-packages (0.12.0)\n"
     ]
    }
   ],
   "source": [
    "!pip install xmltodict"
   ]
  },
  {
   "cell_type": "markdown",
   "metadata": {},
   "source": [
    "Web page was scraped in html using python"
   ]
  },
  {
   "cell_type": "code",
   "execution_count": 173,
   "metadata": {},
   "outputs": [],
   "source": [
    "import xmltodict\n",
    "import json\n",
    "import requests\n",
    "list3 = []  \n",
    "  \n",
    "# Sample URL to fetch the html page\n",
    "url = 'https://www.adapt.io/directory/industry/telecommunications/A-1'\n",
    "  \n",
    "# Headers to mimic the browser\n",
    "headers = {\n",
    "    'User-Agent': 'Mozilla/5.0 (Macintosh; Intel Mac OS X 10_10_1) AppleWebKit/537.36 \\\n",
    "    (KHTML, like Gecko) Chrome/39.0.2171.95 Safari/537.36'\n",
    "}\n",
    "  \n",
    "# Get the page through get() method\n",
    "html_response = requests.get(url=url, headers = headers)\n",
    "  \n",
    "# Save the page content as sample.html\n",
    "with open(\"C:/Users/Dell/PycharmProjects/sample.html\", \"w\") as html_file:\n",
    "    html_file.write(html_response.text)\n",
    "      \n"
   ]
  },
  {
   "cell_type": "code",
   "execution_count": 174,
   "metadata": {},
   "outputs": [
    {
     "name": "stdout",
     "output_type": "stream",
     "text": [
      "Requirement already satisfied: xmltojson in c:\\users\\dell\\anaconda3\\lib\\site-packages (0.2.0)\n",
      "Requirement already satisfied: xmltodict in c:\\users\\dell\\anaconda3\\lib\\site-packages (from xmltojson) (0.12.0)\n"
     ]
    }
   ],
   "source": [
    "!pip install xmltojson"
   ]
  },
  {
   "cell_type": "code",
   "execution_count": 175,
   "metadata": {},
   "outputs": [
    {
     "name": "stdout",
     "output_type": "stream",
     "text": [
      "Requirement already satisfied: utils in c:\\users\\dell\\anaconda3\\lib\\site-packages (1.0.1)\n"
     ]
    }
   ],
   "source": [
    "!pip install utils"
   ]
  },
  {
   "cell_type": "code",
   "execution_count": 176,
   "metadata": {},
   "outputs": [],
   "source": [
    "import xmltojson\n",
    "import json"
   ]
  },
  {
   "cell_type": "markdown",
   "metadata": {},
   "source": [
    "I parsed and formatted html using ToolSlick to convert the original html file into seperate desired html pages in order to  transform into required Json files as asked in question number 2."
   ]
  },
  {
   "cell_type": "markdown",
   "metadata": {},
   "source": [
    "# Code for converting HTML into JSON"
   ]
  },
  {
   "cell_type": "code",
   "execution_count": 162,
   "metadata": {},
   "outputs": [],
   "source": [
    "with open(\"C:/Users/Dell/PycharmProjects/sample1.html\", \"r\") as html_file:\n",
    "    html = html_file.read()\n",
    "    json_ = xmltojson.parse(html)\n"
   ]
  },
  {
   "cell_type": "markdown",
   "metadata": {},
   "source": [
    "After converting into json, I copied the json contents and created a json file by the following code."
   ]
  },
  {
   "cell_type": "code",
   "execution_count": 163,
   "metadata": {},
   "outputs": [],
   "source": [
    "with open(\"C:/Users/Dell/PycharmProjects/company_index.json\", \"w\") as read_file:\n",
    "    json.dump(json_,read_file)"
   ]
  },
  {
   "cell_type": "markdown",
   "metadata": {},
   "source": [
    "I did the same thing for creating company_profile json file"
   ]
  },
  {
   "cell_type": "code",
   "execution_count": 281,
   "metadata": {},
   "outputs": [],
   "source": [
    "with open(\"C:/Users/Dell/PycharmProjects/sample2.html\", \"r\") as html_file:\n",
    "    html = html_file.read()\n",
    "    json1_ = xmltojson.parse(html)"
   ]
  },
  {
   "cell_type": "code",
   "execution_count": 165,
   "metadata": {},
   "outputs": [],
   "source": [
    "with open(\"C:/Users/Dell/PycharmProjects/company_profiles.json\", \"w\") as read_file:\n",
    "    json.dump(json1_,read_file)"
   ]
  },
  {
   "cell_type": "code",
   "execution_count": 160,
   "metadata": {},
   "outputs": [
    {
     "name": "stdout",
     "output_type": "stream",
     "text": [
      "Collecting jsonpath\n",
      "  Downloading jsonpath-0.82.tar.gz (9.6 kB)\n",
      "Building wheels for collected packages: jsonpath\n",
      "  Building wheel for jsonpath (setup.py): started\n",
      "  Building wheel for jsonpath (setup.py): finished with status 'done'\n",
      "  Created wheel for jsonpath: filename=jsonpath-0.82-py3-none-any.whl size=5617 sha256=a8dfe7427eda3bcd60f5f8f9c9902b9c674ca7267f7c4199f9fd2169d2e03cfe\n",
      "  Stored in directory: c:\\users\\dell\\appdata\\local\\pip\\cache\\wheels\\7e\\83\\91\\92d0d11261cc021516b867b5b2fe66591aa7a1dd9561c66395\n",
      "Successfully built jsonpath\n",
      "Installing collected packages: jsonpath\n",
      "Successfully installed jsonpath-0.82\n"
     ]
    }
   ],
   "source": [
    "!pip install jsonpath"
   ]
  },
  {
   "cell_type": "markdown",
   "metadata": {},
   "source": [
    "# Pymysql  to load the json files into mysql database server"
   ]
  },
  {
   "cell_type": "code",
   "execution_count": 8,
   "metadata": {},
   "outputs": [
    {
     "name": "stdout",
     "output_type": "stream",
     "text": [
      "Collecting pymysql\n",
      "  Downloading PyMySQL-1.0.2-py3-none-any.whl (43 kB)\n",
      "Installing collected packages: pymysql\n",
      "Successfully installed pymysql-1.0.2\n"
     ]
    }
   ],
   "source": [
    "!pip install pymysql"
   ]
  },
  {
   "cell_type": "markdown",
   "metadata": {},
   "source": [
    "Now, loading company_index into MySQL database using python"
   ]
  },
  {
   "cell_type": "markdown",
   "metadata": {},
   "source": [
    "First, I imported pymysql"
   ]
  },
  {
   "cell_type": "code",
   "execution_count": 18,
   "metadata": {},
   "outputs": [],
   "source": [
    "import pymysql"
   ]
  },
  {
   "cell_type": "markdown",
   "metadata": {},
   "source": [
    "Then I read company_index json file"
   ]
  },
  {
   "cell_type": "code",
   "execution_count": 19,
   "metadata": {},
   "outputs": [],
   "source": [
    "json_data = open(\"C:/Users/Dell/PycharmProjects/company_index.json\").read()"
   ]
  },
  {
   "cell_type": "markdown",
   "metadata": {},
   "source": [
    "I loaded json to convert json into python dictionary."
   ]
  },
  {
   "cell_type": "code",
   "execution_count": 20,
   "metadata": {},
   "outputs": [],
   "source": [
    "json_obj = json.loads(json_data)"
   ]
  },
  {
   "cell_type": "markdown",
   "metadata": {},
   "source": [
    "I installed XAMPP(MySQL server), and created a table for company_index in XAMPP."
   ]
  },
  {
   "cell_type": "markdown",
   "metadata": {},
   "source": [
    "Now I connected to database from my local machine using pymysql"
   ]
  },
  {
   "cell_type": "code",
   "execution_count": 21,
   "metadata": {},
   "outputs": [],
   "source": [
    "con = pymysql.connect(host=\"localhost\",user=\"root\",password=\"\",db=\"json\")"
   ]
  },
  {
   "cell_type": "markdown",
   "metadata": {},
   "source": [
    "I created an object of the cursor using the connection object"
   ]
  },
  {
   "cell_type": "code",
   "execution_count": 22,
   "metadata": {},
   "outputs": [],
   "source": [
    "cursor = con.cursor()"
   ]
  },
  {
   "cell_type": "markdown",
   "metadata": {},
   "source": [
    "I inserted the data from json file into the database table in MySQL."
   ]
  },
  {
   "cell_type": "code",
   "execution_count": 23,
   "metadata": {},
   "outputs": [],
   "source": [
    "for item in json_obj:\n",
    "    company_name = item.get(\"company_name\")\n",
    "    source_url = item.get(\"source_url\")\n",
    "    cursor.execute(\"insert into companyindex(company_name,source_url) value(%s,%s)\",(company_name,source_url))"
   ]
  },
  {
   "cell_type": "markdown",
   "metadata": {},
   "source": [
    "Insertion successful"
   ]
  },
  {
   "cell_type": "code",
   "execution_count": 24,
   "metadata": {},
   "outputs": [],
   "source": [
    "con.commit()"
   ]
  },
  {
   "cell_type": "markdown",
   "metadata": {},
   "source": [
    "I queried the table from the database into jupyter notebook."
   ]
  },
  {
   "cell_type": "markdown",
   "metadata": {},
   "source": [
    "I executed the query, and then it showed 10 because there are 10 samples in the table."
   ]
  },
  {
   "cell_type": "code",
   "execution_count": 25,
   "metadata": {},
   "outputs": [
    {
     "data": {
      "text/plain": [
       "10"
      ]
     },
     "execution_count": 25,
     "metadata": {},
     "output_type": "execute_result"
    }
   ],
   "source": [
    "cursor.execute(\"select * from companyindex\")"
   ]
  },
  {
   "cell_type": "markdown",
   "metadata": {},
   "source": [
    "I got all the records using fetchall"
   ]
  },
  {
   "cell_type": "code",
   "execution_count": 26,
   "metadata": {},
   "outputs": [],
   "source": [
    "myresult = cursor.fetchall()"
   ]
  },
  {
   "cell_type": "markdown",
   "metadata": {},
   "source": [
    "After getting the samples, the rows from the table were displayed."
   ]
  },
  {
   "cell_type": "code",
   "execution_count": 27,
   "metadata": {},
   "outputs": [
    {
     "name": "stdout",
     "output_type": "stream",
     "text": [
      "('A + Communications and Security', 'https://www.adapt.io/company/a--communications-and-security')\n",
      "('A&amp;A Technology Group', 'https://www.adapt.io/company/a-a-technology-group')\n",
      "('A Better Answer', 'https://www.adapt.io/company/a-better-answer-4')\n",
      "('A Cheerful Giver', 'https://www.adapt.io/company/a-cheerful-giver-inc-1')\n",
      "('A_CT', 'https://www.adapt.io/company/a-cti-1')\n",
      "('A + Communications and Security', 'https://www.adapt.io/company/a--communications-and-security')\n",
      "('A&amp;A Technology Group', 'https://www.adapt.io/company/a-a-technology-group')\n",
      "('A Better Answer', 'https://www.adapt.io/company/a-better-answer-4')\n",
      "('A Cheerful Giver', 'https://www.adapt.io/company/a-cheerful-giver-inc-1')\n",
      "('A_CT', 'https://www.adapt.io/company/a-cti-1')\n"
     ]
    }
   ],
   "source": [
    "for row in myresult:\n",
    "    print(row)"
   ]
  },
  {
   "cell_type": "markdown",
   "metadata": {},
   "source": [
    "Closed connection wtih the database"
   ]
  },
  {
   "cell_type": "code",
   "execution_count": 28,
   "metadata": {},
   "outputs": [],
   "source": [
    "con.close()"
   ]
  },
  {
   "cell_type": "markdown",
   "metadata": {},
   "source": [
    "I loaded company_profiles json file into MySQL database. As this json_file was written in nested_json format, I used pandas data frame to do the same task. First, I loaded the json file into pandas dataframe."
   ]
  },
  {
   "cell_type": "code",
   "execution_count": 132,
   "metadata": {},
   "outputs": [],
   "source": [
    "import pandas as pd\n",
    "df = pd.read_json('C:/Users/Dell/PycharmProjects/company_profiles.json')"
   ]
  },
  {
   "cell_type": "markdown",
   "metadata": {},
   "source": [
    "data = json.loads(f.read()) load data using Python json module. After that, json_normalize() is called with the argument record_path set to ['contact_details'] to flatten the nested list in contact_details."
   ]
  },
  {
   "cell_type": "code",
   "execution_count": 133,
   "metadata": {},
   "outputs": [
    {
     "data": {
      "text/html": [
       "<div>\n",
       "<style scoped>\n",
       "    .dataframe tbody tr th:only-of-type {\n",
       "        vertical-align: middle;\n",
       "    }\n",
       "\n",
       "    .dataframe tbody tr th {\n",
       "        vertical-align: top;\n",
       "    }\n",
       "\n",
       "    .dataframe thead th {\n",
       "        text-align: right;\n",
       "    }\n",
       "</style>\n",
       "<table border=\"1\" class=\"dataframe\">\n",
       "  <thead>\n",
       "    <tr style=\"text-align: right;\">\n",
       "      <th></th>\n",
       "      <th>contact_name</th>\n",
       "      <th>contact_jobtitle</th>\n",
       "      <th>contact_email_domain</th>\n",
       "      <th>contact_department</th>\n",
       "    </tr>\n",
       "  </thead>\n",
       "  <tbody>\n",
       "    <tr>\n",
       "      <th>0</th>\n",
       "      <td>Scott Moon</td>\n",
       "      <td>Installation/Service Manager</td>\n",
       "      <td>adapt.io</td>\n",
       "      <td>Support</td>\n",
       "    </tr>\n",
       "    <tr>\n",
       "      <th>1</th>\n",
       "      <td>Linda Wheeler</td>\n",
       "      <td>Support Service Supervisor</td>\n",
       "      <td>adapt.io</td>\n",
       "      <td>Support</td>\n",
       "    </tr>\n",
       "  </tbody>\n",
       "</table>\n",
       "</div>"
      ],
      "text/plain": [
       "    contact_name              contact_jobtitle contact_email_domain  \\\n",
       "0     Scott Moon  Installation/Service Manager             adapt.io   \n",
       "1  Linda Wheeler    Support Service Supervisor             adapt.io   \n",
       "\n",
       "  contact_department  \n",
       "0            Support  \n",
       "1            Support  "
      ]
     },
     "execution_count": 133,
     "metadata": {},
     "output_type": "execute_result"
    }
   ],
   "source": [
    "import json\n",
    "# load data using Python JSON module\n",
    "with open('C:/Users/Dell/PycharmProjects/company_profiles.json','r') as f:\n",
    "    data = json.loads(f.read())\n",
    "# Flatten data\n",
    "df_nested_list = pd.json_normalize(data, record_path =['contact_details'])\n",
    "df_nested_list"
   ]
  },
  {
   "cell_type": "markdown",
   "metadata": {},
   "source": [
    "I used meta to specify a list of metadata that was required for the result."
   ]
  },
  {
   "cell_type": "code",
   "execution_count": 136,
   "metadata": {},
   "outputs": [
    {
     "data": {
      "text/html": [
       "<div>\n",
       "<style scoped>\n",
       "    .dataframe tbody tr th:only-of-type {\n",
       "        vertical-align: middle;\n",
       "    }\n",
       "\n",
       "    .dataframe tbody tr th {\n",
       "        vertical-align: top;\n",
       "    }\n",
       "\n",
       "    .dataframe thead th {\n",
       "        text-align: right;\n",
       "    }\n",
       "</style>\n",
       "<table border=\"1\" class=\"dataframe\">\n",
       "  <thead>\n",
       "    <tr style=\"text-align: right;\">\n",
       "      <th></th>\n",
       "      <th>contact_name</th>\n",
       "      <th>contact_jobtitle</th>\n",
       "      <th>contact_email_domain</th>\n",
       "      <th>contact_department</th>\n",
       "      <th>company_name</th>\n",
       "      <th>company_location</th>\n",
       "      <th>company_website</th>\n",
       "      <th>company_webdomain</th>\n",
       "      <th>company_industry</th>\n",
       "      <th>company_employee_size</th>\n",
       "      <th>company_revenue</th>\n",
       "    </tr>\n",
       "  </thead>\n",
       "  <tbody>\n",
       "    <tr>\n",
       "      <th>0</th>\n",
       "      <td>Scott Moon</td>\n",
       "      <td>Installation/Service Manager</td>\n",
       "      <td>adapt.io</td>\n",
       "      <td>Support</td>\n",
       "      <td>A + Communications and Security</td>\n",
       "      <td>Des Moines, Iowa, United States</td>\n",
       "      <td>https://www.adapt.io/company/a--communication...</td>\n",
       "      <td>adapt.io</td>\n",
       "      <td>Telecommunications</td>\n",
       "      <td>25-100</td>\n",
       "      <td>$0-1M</td>\n",
       "    </tr>\n",
       "    <tr>\n",
       "      <th>1</th>\n",
       "      <td>Linda Wheeler</td>\n",
       "      <td>Support Service Supervisor</td>\n",
       "      <td>adapt.io</td>\n",
       "      <td>Support</td>\n",
       "      <td>A + Communications and Security</td>\n",
       "      <td>Des Moines, Iowa, United States</td>\n",
       "      <td>https://www.adapt.io/company/a--communication...</td>\n",
       "      <td>adapt.io</td>\n",
       "      <td>Telecommunications</td>\n",
       "      <td>25-100</td>\n",
       "      <td>$0-1M</td>\n",
       "    </tr>\n",
       "  </tbody>\n",
       "</table>\n",
       "</div>"
      ],
      "text/plain": [
       "    contact_name              contact_jobtitle contact_email_domain  \\\n",
       "0     Scott Moon  Installation/Service Manager             adapt.io   \n",
       "1  Linda Wheeler    Support Service Supervisor             adapt.io   \n",
       "\n",
       "  contact_department                     company_name  \\\n",
       "0            Support  A + Communications and Security   \n",
       "1            Support  A + Communications and Security   \n",
       "\n",
       "                  company_location  \\\n",
       "0  Des Moines, Iowa, United States   \n",
       "1  Des Moines, Iowa, United States   \n",
       "\n",
       "                                     company_website company_webdomain  \\\n",
       "0   https://www.adapt.io/company/a--communication...          adapt.io   \n",
       "1   https://www.adapt.io/company/a--communication...          adapt.io   \n",
       "\n",
       "     company_industry company_employee_size company_revenue  \n",
       "0  Telecommunications                25-100           $0-1M  \n",
       "1  Telecommunications                25-100           $0-1M  "
      ]
     },
     "execution_count": 136,
     "metadata": {},
     "output_type": "execute_result"
    }
   ],
   "source": [
    "# To include companyname, companylocation  and companyrevenue\n",
    "df_nested_list = pd.json_normalize(\n",
    "    data, \n",
    "   \n",
    "    meta=['company_name', 'company_location','company_website','company_webdomain','company_industry','company_employee_size','company_revenue'],\n",
    "    record_path =['contact_details']\n",
    ")\n",
    "df_nested_list"
   ]
  },
  {
   "cell_type": "markdown",
   "metadata": {},
   "source": [
    "The create engine was imported from sqlalchemy to create a database json."
   ]
  },
  {
   "cell_type": "code",
   "execution_count": 137,
   "metadata": {},
   "outputs": [],
   "source": [
    "from sqlalchemy import create_engine"
   ]
  },
  {
   "cell_type": "code",
   "execution_count": 138,
   "metadata": {},
   "outputs": [],
   "source": [
    "engine = create_engine('mysql+pymysql://root:@localhost/json')"
   ]
  },
  {
   "cell_type": "markdown",
   "metadata": {},
   "source": [
    "I created a table using the following code."
   ]
  },
  {
   "cell_type": "code",
   "execution_count": 139,
   "metadata": {},
   "outputs": [],
   "source": [
    "df_nested_list.to_sql(\"companyprofile\",con=engine)"
   ]
  },
  {
   "cell_type": "markdown",
   "metadata": {},
   "source": [
    "The query result was displayed for companyprofile table."
   ]
  },
  {
   "cell_type": "code",
   "execution_count": 140,
   "metadata": {},
   "outputs": [],
   "source": [
    "con1 = pymysql.connect(host=\"localhost\",user=\"root\",password=\"\",db=\"json\")"
   ]
  },
  {
   "cell_type": "code",
   "execution_count": 141,
   "metadata": {},
   "outputs": [],
   "source": [
    "cursor1 = con1.cursor()"
   ]
  },
  {
   "cell_type": "code",
   "execution_count": 142,
   "metadata": {},
   "outputs": [
    {
     "data": {
      "text/plain": [
       "2"
      ]
     },
     "execution_count": 142,
     "metadata": {},
     "output_type": "execute_result"
    }
   ],
   "source": [
    "cursor1.execute(\"select * from companyprofile\")"
   ]
  },
  {
   "cell_type": "markdown",
   "metadata": {},
   "source": [
    "Two means two samples in the table."
   ]
  },
  {
   "cell_type": "code",
   "execution_count": 143,
   "metadata": {},
   "outputs": [],
   "source": [
    "myresult1 = cursor1.fetchall()"
   ]
  },
  {
   "cell_type": "markdown",
   "metadata": {},
   "source": [
    "The samples of companyprofile table is shown below."
   ]
  },
  {
   "cell_type": "code",
   "execution_count": 144,
   "metadata": {},
   "outputs": [
    {
     "name": "stdout",
     "output_type": "stream",
     "text": [
      "(0, 'Scott Moon', 'Installation/Service Manager', 'adapt.io', 'Support', 'A + Communications and Security', 'Des Moines, Iowa, United States', ' https://www.adapt.io/company/a--communications-and-security', 'adapt.io', 'Telecommunications', '25-100', '$0-1M')\n",
      "(1, 'Linda Wheeler', 'Support Service Supervisor', 'adapt.io', 'Support', 'A + Communications and Security', 'Des Moines, Iowa, United States', ' https://www.adapt.io/company/a--communications-and-security', 'adapt.io', 'Telecommunications', '25-100', '$0-1M')\n"
     ]
    }
   ],
   "source": [
    "for row in myresult1:\n",
    "    print(row)"
   ]
  },
  {
   "cell_type": "markdown",
   "metadata": {},
   "source": [
    "# API testing using python - Write Test Case- Post Request"
   ]
  },
  {
   "cell_type": "markdown",
   "metadata": {},
   "source": [
    "First, I obtained an API url for a website."
   ]
  },
  {
   "cell_type": "code",
   "execution_count": 229,
   "metadata": {},
   "outputs": [],
   "source": [
    "url = 'https://www.adapt.io/directory/industry/telecommunications/A-1'"
   ]
  },
  {
   "cell_type": "markdown",
   "metadata": {},
   "source": [
    "Then I read the contents of json file."
   ]
  },
  {
   "cell_type": "code",
   "execution_count": 261,
   "metadata": {},
   "outputs": [],
   "source": [
    "json_data1 = open(\"C:/Users/Dell/PycharmProjects/company_index.json\").read()"
   ]
  },
  {
   "cell_type": "code",
   "execution_count": 262,
   "metadata": {},
   "outputs": [],
   "source": [
    "requests_json1 = json.loads(json_data1)"
   ]
  },
  {
   "cell_type": "markdown",
   "metadata": {},
   "source": [
    "I posted request with Json Input body."
   ]
  },
  {
   "cell_type": "code",
   "execution_count": 264,
   "metadata": {},
   "outputs": [],
   "source": [
    "response = requests.post(url,requests_json1)"
   ]
  },
  {
   "cell_type": "code",
   "execution_count": 265,
   "metadata": {},
   "outputs": [
    {
     "name": "stdout",
     "output_type": "stream",
     "text": [
      "b'<!DOCTYPE html><html lang=\"en-US\"><head><meta charSet=\"utf-8\"/><meta http-equiv=\"Content-Type\" content=\"text/html; charset=UTF-8\"/><meta name=\"viewport\" content=\"width=device-width, initial-scale=1\"/><title>Companies in Telecommunications industry | Alphabet A | B2B Company List | Adapt.io</title><meta name=\"description\" content=\"Find the companies and top contacts working in Telecommunications industry that starts with alphabet A. Get the B2B company list at Adapt.io\"/><link rel=\"icon\" href=\"/favicon.ico\"/><link rel=\"preconnect\" href=\"www.google-analytics.com\"/><link rel=\"preconnect\" href=\"www.googletagmanager.com\"/><script>(function(w,d,s,l,i){w[l]=w[l]||[];w[l].push({\\'gtm.start\\':\\n          new Date().getTime(),event:\\'gtm.js\\'});var f=d.getElementsByTagName(s)[0],\\n          j=d.createElement(s),dl=l!=\\'dataLayer\\'?\\'&l=\\'+l:\\'\\';j.async=true;j.src=\\n          \\'https://www.googletagmanager.com/gtm.js?id=\\'+i+dl;f.parentNode.insertBefore(j,f);\\n          })(window,document,\\'script\\',\\'dataLayer\\', \\'GTM-WJDZDLZ\\');</script><meta name=\"next-head-count\" content=\"9\"/><link rel=\"preload\" href=\"/_next/static/css/2e6840652acdb0c23422.css\" as=\"style\"/><link rel=\"stylesheet\" href=\"/_next/static/css/2e6840652acdb0c23422.css\" data-n-g=\"\"/><link rel=\"preload\" href=\"/_next/static/css/07acec2f92c974ff3e18.css\" as=\"style\"/><link rel=\"stylesheet\" href=\"/_next/static/css/07acec2f92c974ff3e18.css\" data-n-p=\"\"/><noscript data-n-css=\"\"></noscript><link rel=\"preload\" href=\"/_next/static/chunks/main-7b0370ae5ee8ca69a8e3.js\" as=\"script\"/><link rel=\"preload\" href=\"/_next/static/chunks/webpack-324a97b9e09a33133866.js\" as=\"script\"/><link rel=\"preload\" href=\"/_next/static/chunks/framework.eb7e4030fecc3bcac0db.js\" as=\"script\"/><link rel=\"preload\" href=\"/_next/static/chunks/44ca27d0083750f9c52e4c9c7da7ba5e37d0c178.7652ce0a15a0aa80a0a1.js\" as=\"script\"/><link rel=\"preload\" href=\"/_next/static/chunks/pages/_app-e684ee83e9a1f6a153f2.js\" as=\"script\"/><link rel=\"preload\" href=\"/_next/static/chunks/e82996df.80fc43e08d188cb71862.js\" as=\"script\"/><link rel=\"preload\" href=\"/_next/static/chunks/c0d53ec4.f13d42fc01398e9ef007.js\" as=\"script\"/><link rel=\"preload\" href=\"/_next/static/chunks/3aabab4ccf84bf1027139b25c3cf6691b36093cc.d168ea96714052437202.js\" as=\"script\"/><link rel=\"preload\" href=\"/_next/static/chunks/d5ea0434147ae87205344fc99fa6f1a10ee48c6d.0896faa6ebfd9a40bdc9.js\" as=\"script\"/><link rel=\"preload\" href=\"/_next/static/chunks/3a9a53ed6d026461dac72307bb72fdcc2922b04e.d49be9254d0721833d14.js\" as=\"script\"/><link rel=\"preload\" href=\"/_next/static/chunks/3a9a53ed6d026461dac72307bb72fdcc2922b04e_CSS.ceef42eb591200e32412.js\" as=\"script\"/><link rel=\"preload\" href=\"/_next/static/chunks/pages/directory/industry/%5B...industryDirectorySeoPath%5D-5c73d6afb936901f63de.js\" as=\"script\"/><style id=\"__jsx-1445188424\">.simpleButton.orangeBtn{border-radius:4px;color:#fff;background-color:#fe6817;border-color:#fe6817;padding:12px 20px 10px 20px;}.simpleButton.actionBtn{margin:20px 10px 0;}.simpleButton.orangeBorderBtn{border-color:#fe6817;color:#fe6817;}.simpleButton.orangeBorderBtn:hover{-webkit-text-decoration:none;text-decoration:none;}.simpleButton.orangeBtn .iconStart svg path{fill:#fff;}</style><style id=\"__jsx-3777127176\">.simpleButton.mailPhoneBtn{color:#3e3e40;border-radius:18px;border:solid 1px #cfd5fe;padding:9px 16px 5px;margin:10px 0 0;font-family:\"Graphik-Regular\";-webkit-align-items:flex-start;-webkit-box-align:flex-start;-ms-flex-align:flex-start;align-items:flex-start;word-break:break-all;text-align:left;}.simpleButton.mailPhoneBtn:hover{background-color:#f6f7ff;}.simpleButton.mailPhoneBtn.phoneBtn{border-color:#ffdac7;}.simpleButton.mailPhoneBtn.phoneBtn:hover{background-color:#fff4ee;}.simpleButton.mailPhoneBtn .iconStart svg{width:13px;height:13px;}.simpleButton.phoneBtn .iconStart svg path{fill:#45548c;}</style></head><body><div id=\"__next\"><div class=\"Directory_container__3HjWL directoryPage\"><noscript><iframe src=\"https://www.googletagmanager.com/ns.html?id=GTM-WJDZDLZ\"\\n          height=\"0\" width=\"0\" style=\"display:none;visibility:hidden\"></iframe></noscript><main><div class=\"Header_headerContainer__TIQpL\"><div class=\"Header_headerWrapper__1_mv-\"><a class=\"Logo_logo__yhxeF\" href=\"https://www.adapt.io\">adapt</a><div class=\"Menu_menuContainer__1ZRHY \"><div class=\"Menu_mobileMenuContainer__6juf8\"><svg xmlns=\"http://www.w3.org/2000/svg\" viewBox=\"0 0 24 24\" width=\"48\" height=\"48\"><path d=\"M0 0h24v24H0z\" fill=\"none\"/><path d=\"M3 18h18v-2H3v2zm0-5h18v-2H3v2zm0-7v2h18V6H3z\"/></svg></div><div class=\"Menu_mobileMenuMask__3DYUa\"></div><div class=\"Menu_menuList__u91dk\"><div class=\"Menu_menuItem__2uFdv Menu_hasSubMenu__2vmyI\"><a href=\"https://www.adapt.io/products/lead-builder/\">Products</a><span class=\"Menu_subMenuList__HSM9c\"><a href=\"https://www.adapt.io/products/lead-builder/\">Lead Builder</a><a href=\"https://www.adapt.io/products/prospector/\">Prospector</a></span></div><div class=\"Menu_menuItem__2uFdv Menu_hasSubMenu__2vmyI\"><a href=\"https://www.adapt.io/solutions/marketing/\">Solutions</a><span class=\"Menu_subMenuList__HSM9c\"><a href=\"https://www.adapt.io/solutions/marketing/\">Marketing</a><a href=\"https://www.adapt.io/solutions/sales/\">Sales</a><a href=\"https://www.adapt.io/solutions/recruiting/\">Recruiting</a></span></div><a href=\"https://www.adapt.io/pricing.htm\" itemProp=\"url\" class=\"Menu_menuItem__2uFdv Menu_noSubMenu__3ygY2\">Pricing</a><a href=\"https://www.adapt.io/api-documentation.htm\" itemProp=\"url\" rel=\"nofollow\" class=\"Menu_menuItem__2uFdv Menu_noSubMenu__3ygY2\">API</a><div class=\"Menu_menuItem__2uFdv Menu_hasSubMenu__2vmyI\"><a href=\"/about\" itemProp=\"url\">About</a><span class=\"Menu_subMenuList__HSM9c\"><a href=\"/about\" target=\"_blank\">Our Story</a><a href=\"/about/our-data\" target=\"_blank\">Our Data</a><a href=\"/about/team\" target=\"_blank\">Team</a><a href=\"/careers/\" target=\"_blank\">Careers</a><a href=\"/about/adapt-scholarship/\" rel=\"nofollow\" target=\"_blank\" itemProp=\"url\">Scholarship Program</a><a href=\"/about/customer-testimonials/\" target=\"_blank\" itemProp=\"url\">Customer Testimonials</a></span></div><a href=\"/blog\" target=\"_blank\" class=\"Menu_menuItem__2uFdv\">Blog</a><a href=\"https://www.adapt.io/login.htm?slc=web&amp;login=true\" class=\"Menu_menuItem__2uFdv Menu_noSubMenu__3ygY2\" itemProp=\"url\">Sign In</a><a itemProp=\"url\" href=\"https://www.adapt.io/request-demo/\" class=\"Menu_menuItem__2uFdv Menu_noSubMenu__3ygY2 Menu_requestDemoBtn__1bysr\">REQUEST DEMO</a></div></div></div></div><div class=\"DirectoryPage_directoryPageContainer__1NdWc\" itemscope=\"\" itemType=\"http://schema.org/Organization\"><div class=\"DirectoryTopInfo_directoryTopInfoContainer__35RPf\"><div class=\"DirectoryTopInfo_roundedBorder__wcfEm DirectoryTopInfo_infoWrapper__UknMm\"><h1>Industry Directory - Telecommunications - A - 1</h1><div class=\"DirectoryTopInfo_alphabetLinkListWrapper__4a1SM\"><div class=\"DirectoryTopInfo_linkItemWrapper__2MyQQ DirectoryTopInfo_activeLinkWrapper__3CoZV\"><a content=\"https://www.adapt.io/directory/industry/telecommunications/A-1\" href=\"https://www.adapt.io/directory/industry/telecommunications/A-1\">A</a></div><div class=\"DirectoryTopInfo_linkItemWrapper__2MyQQ \"><a content=\"https://www.adapt.io/directory/industry/telecommunications/B-1\" href=\"https://www.adapt.io/directory/industry/telecommunications/B-1\">B</a></div><div class=\"DirectoryTopInfo_linkItemWrapper__2MyQQ \"><a content=\"https://www.adapt.io/directory/industry/telecommunications/C-1\" href=\"https://www.adapt.io/directory/industry/telecommunications/C-1\">C</a></div><div class=\"DirectoryTopInfo_linkItemWrapper__2MyQQ \"><a content=\"https://www.adapt.io/directory/industry/telecommunications/D-1\" href=\"https://www.adapt.io/directory/industry/telecommunications/D-1\">D</a></div><div class=\"DirectoryTopInfo_linkItemWrapper__2MyQQ \"><a content=\"https://www.adapt.io/directory/industry/telecommunications/E-1\" href=\"https://www.adapt.io/directory/industry/telecommunications/E-1\">E</a></div><div class=\"DirectoryTopInfo_linkItemWrapper__2MyQQ \"><a content=\"https://www.adapt.io/directory/industry/telecommunications/F-1\" href=\"https://www.adapt.io/directory/industry/telecommunications/F-1\">F</a></div><div class=\"DirectoryTopInfo_linkItemWrapper__2MyQQ \"><a content=\"https://www.adapt.io/directory/industry/telecommunications/G-1\" href=\"https://www.adapt.io/directory/industry/telecommunications/G-1\">G</a></div><div class=\"DirectoryTopInfo_linkItemWrapper__2MyQQ \"><a content=\"https://www.adapt.io/directory/industry/telecommunications/H-1\" href=\"https://www.adapt.io/directory/industry/telecommunications/H-1\">H</a></div><div class=\"DirectoryTopInfo_linkItemWrapper__2MyQQ \"><a content=\"https://www.adapt.io/directory/industry/telecommunications/I-1\" href=\"https://www.adapt.io/directory/industry/telecommunications/I-1\">I</a></div><div class=\"DirectoryTopInfo_linkItemWrapper__2MyQQ \"><a content=\"https://www.adapt.io/directory/industry/telecommunications/J-1\" href=\"https://www.adapt.io/directory/industry/telecommunications/J-1\">J</a></div><div class=\"DirectoryTopInfo_linkItemWrapper__2MyQQ \"><a content=\"https://www.adapt.io/directory/industry/telecommunications/K-1\" href=\"https://www.adapt.io/directory/industry/telecommunications/K-1\">K</a></div><div class=\"DirectoryTopInfo_linkItemWrapper__2MyQQ \"><a content=\"https://www.adapt.io/directory/industry/telecommunications/L-1\" href=\"https://www.adapt.io/directory/industry/telecommunications/L-1\">L</a></div><div class=\"DirectoryTopInfo_linkItemWrapper__2MyQQ \"><a content=\"https://www.adapt.io/directory/industry/telecommunications/M-1\" href=\"https://www.adapt.io/directory/industry/telecommunications/M-1\">M</a></div><div class=\"DirectoryTopInfo_linkItemWrapper__2MyQQ \"><a content=\"https://www.adapt.io/directory/industry/telecommunications/N-1\" href=\"https://www.adapt.io/directory/industry/telecommunications/N-1\">N</a></div><div class=\"DirectoryTopInfo_linkItemWrapper__2MyQQ \"><a content=\"https://www.adapt.io/directory/industry/telecommunications/O-1\" href=\"https://www.adapt.io/directory/industry/telecommunications/O-1\">O</a></div><div class=\"DirectoryTopInfo_linkItemWrapper__2MyQQ \"><a content=\"https://www.adapt.io/directory/industry/telecommunications/P-1\" href=\"https://www.adapt.io/directory/industry/telecommunications/P-1\">P</a></div><div class=\"DirectoryTopInfo_linkItemWrapper__2MyQQ \"><a content=\"https://www.adapt.io/directory/industry/telecommunications/Q-1\" href=\"https://www.adapt.io/directory/industry/telecommunications/Q-1\">Q</a></div><div class=\"DirectoryTopInfo_linkItemWrapper__2MyQQ \"><a content=\"https://www.adapt.io/directory/industry/telecommunications/R-1\" href=\"https://www.adapt.io/directory/industry/telecommunications/R-1\">R</a></div><div class=\"DirectoryTopInfo_linkItemWrapper__2MyQQ \"><a content=\"https://www.adapt.io/directory/industry/telecommunications/S-1\" href=\"https://www.adapt.io/directory/industry/telecommunications/S-1\">S</a></div><div class=\"DirectoryTopInfo_linkItemWrapper__2MyQQ \"><a content=\"https://www.adapt.io/directory/industry/telecommunications/T-1\" href=\"https://www.adapt.io/directory/industry/telecommunications/T-1\">T</a></div><div class=\"DirectoryTopInfo_linkItemWrapper__2MyQQ \"><a content=\"https://www.adapt.io/directory/industry/telecommunications/U-1\" href=\"https://www.adapt.io/directory/industry/telecommunications/U-1\">U</a></div><div class=\"DirectoryTopInfo_linkItemWrapper__2MyQQ \"><a content=\"https://www.adapt.io/directory/industry/telecommunications/V-1\" href=\"https://www.adapt.io/directory/industry/telecommunications/V-1\">V</a></div><div class=\"DirectoryTopInfo_linkItemWrapper__2MyQQ \"><a content=\"https://www.adapt.io/directory/industry/telecommunications/W-1\" href=\"https://www.adapt.io/directory/industry/telecommunications/W-1\">W</a></div><div class=\"DirectoryTopInfo_linkItemWrapper__2MyQQ \"><a content=\"https://www.adapt.io/directory/industry/telecommunications/X-1\" href=\"https://www.adapt.io/directory/industry/telecommunications/X-1\">X</a></div><div class=\"DirectoryTopInfo_linkItemWrapper__2MyQQ \"><a content=\"https://www.adapt.io/directory/industry/telecommunications/Y-1\" href=\"https://www.adapt.io/directory/industry/telecommunications/Y-1\">Y</a></div><div class=\"DirectoryTopInfo_linkItemWrapper__2MyQQ \"><a content=\"https://www.adapt.io/directory/industry/telecommunications/Z-1\" href=\"https://www.adapt.io/directory/industry/telecommunications/Z-1\">Z</a></div></div></div></div><div class=\"DirectoryList_directoryListContainer__7AiMy\"><div class=\"DirectoryList_roundedBorder__3kE22 DirectoryList_infoWrapper__A0-sM\"><div class=\"DirectoryList_seoDirectoryList__aMaj8\"><div class=\"DirectoryList_linkItemWrapper__3F2UE \"><a content=\"https://www.adapt.io/company/a--communications-and-security\" href=\"https://www.adapt.io/company/a--communications-and-security\">A + Communications and Security</a></div><div class=\"DirectoryList_linkItemWrapper__3F2UE \"><a content=\"https://www.adapt.io/company/a-a-technology-group\" href=\"https://www.adapt.io/company/a-a-technology-group\">A&amp;A Technology Group</a></div><div class=\"DirectoryList_linkItemWrapper__3F2UE \"><a content=\"https://www.adapt.io/company/a-better-answer-4\" href=\"https://www.adapt.io/company/a-better-answer-4\">A Better Answer</a></div><div class=\"DirectoryList_linkItemWrapper__3F2UE \"><a content=\"https://www.adapt.io/company/a-cheerful-giver-inc-1\" href=\"https://www.adapt.io/company/a-cheerful-giver-inc-1\">A Cheerful Giver</a></div><div class=\"DirectoryList_linkItemWrapper__3F2UE \"><a content=\"https://www.adapt.io/company/a-cti-1\" href=\"https://www.adapt.io/company/a-cti-1\">A-CTI</a></div><div class=\"DirectoryList_linkItemWrapper__3F2UE \"><a content=\"https://www.adapt.io/company/a-p-g-inc\" href=\"https://www.adapt.io/company/a-p-g-inc\">A P G Inc</a></div><div class=\"DirectoryList_linkItemWrapper__3F2UE \"><a content=\"https://www.adapt.io/company/a-r-management-solutions--llc\" href=\"https://www.adapt.io/company/a-r-management-solutions--llc\">Crexendo Business Solutions</a></div><div class=\"DirectoryList_linkItemWrapper__3F2UE \"><a content=\"https://www.adapt.io/company/a-v--lauttamus-communications--inc-\" href=\"https://www.adapt.io/company/a-v--lauttamus-communications--inc-\">A.V. Lauttamus Communications, Inc.</a></div><div class=\"DirectoryList_linkItemWrapper__3F2UE \"><a content=\"https://www.adapt.io/company/a-v-services--inc-\" href=\"https://www.adapt.io/company/a-v-services--inc-\">A-V Services, Inc.</a></div><div class=\"DirectoryList_linkItemWrapper__3F2UE \"><a content=\"https://www.adapt.io/company/a1-teletronics-inc-\" href=\"https://www.adapt.io/company/a1-teletronics-inc-\">A1 Teletronics</a></div><div class=\"DirectoryList_linkItemWrapper__3F2UE \"><a content=\"https://www.adapt.io/company/abacus-group--inc--1\" href=\"https://www.adapt.io/company/abacus-group--inc--1\">Abacus Group, Inc.</a></div><div class=\"DirectoryList_linkItemWrapper__3F2UE \"><a content=\"https://www.adapt.io/company/abadi-group-1\" href=\"https://www.adapt.io/company/abadi-group-1\">Abadi Group</a></div><div class=\"DirectoryList_linkItemWrapper__3F2UE \"><a content=\"https://www.adapt.io/company/abcom-llc\" href=\"https://www.adapt.io/company/abcom-llc\">ABcom</a></div><div class=\"DirectoryList_linkItemWrapper__3F2UE \"><a content=\"https://www.adapt.io/company/abilita-5\" href=\"https://www.adapt.io/company/abilita-5\">Abilita</a></div><div class=\"DirectoryList_linkItemWrapper__3F2UE \"><a content=\"https://www.adapt.io/company/abis-3\" href=\"https://www.adapt.io/company/abis-3\">ABIS</a></div><div class=\"DirectoryList_linkItemWrapper__3F2UE \"><a content=\"https://www.adapt.io/company/abmnus-llc\" href=\"https://www.adapt.io/company/abmnus-llc\">Abmnus</a></div><div class=\"DirectoryList_linkItemWrapper__3F2UE \"><a content=\"https://www.adapt.io/company/about-wireless-1\" href=\"https://www.adapt.io/company/about-wireless-1\">Wireless USA</a></div><div class=\"DirectoryList_linkItemWrapper__3F2UE \"><a content=\"https://www.adapt.io/company/abovenet-2\" href=\"https://www.adapt.io/company/abovenet-2\">AboveNet</a></div><div class=\"DirectoryList_linkItemWrapper__3F2UE \"><a content=\"https://www.adapt.io/company/abr-industries\" href=\"https://www.adapt.io/company/abr-industries\">ABR Industries</a></div><div class=\"DirectoryList_linkItemWrapper__3F2UE \"><a content=\"https://www.adapt.io/company/abs-communications-llc\" href=\"https://www.adapt.io/company/abs-communications-llc\">ABS Communications</a></div><div class=\"DirectoryList_linkItemWrapper__3F2UE \"><a content=\"https://www.adapt.io/company/absolute-wireless-\" href=\"https://www.adapt.io/company/absolute-wireless-\">Absolute Wireless</a></div><div class=\"DirectoryList_linkItemWrapper__3F2UE \"><a content=\"https://www.adapt.io/company/ac-photonics\" href=\"https://www.adapt.io/company/ac-photonics\">acphotonics</a></div><div class=\"DirectoryList_linkItemWrapper__3F2UE \"><a content=\"https://www.adapt.io/company/acacia-communications-inc-\" href=\"https://www.adapt.io/company/acacia-communications-inc-\">Acacia Communications</a></div><div class=\"DirectoryList_linkItemWrapper__3F2UE \"><a content=\"https://www.adapt.io/company/acbb-bits-llc\" href=\"https://www.adapt.io/company/acbb-bits-llc\">ACBB-BITS LLC</a></div><div class=\"DirectoryList_linkItemWrapper__3F2UE \"><a content=\"https://www.adapt.io/company/acc-business\" href=\"https://www.adapt.io/company/acc-business\">ACC Business</a></div><div class=\"DirectoryList_linkItemWrapper__3F2UE \"><a content=\"https://www.adapt.io/company/acceltex-solutions-2\" href=\"https://www.adapt.io/company/acceltex-solutions-2\">AccelTex Solutions</a></div><div class=\"DirectoryList_linkItemWrapper__3F2UE \"><a content=\"https://www.adapt.io/company/accesradio-com\" href=\"https://www.adapt.io/company/accesradio-com\">Acces Communications</a></div><div class=\"DirectoryList_linkItemWrapper__3F2UE \"><a content=\"https://www.adapt.io/company/access-communications-cooperative-limited\" href=\"https://www.adapt.io/company/access-communications-cooperative-limited\">Access Communications Cooperative Limited</a></div><div class=\"DirectoryList_linkItemWrapper__3F2UE \"><a content=\"https://www.adapt.io/company/access-point--inc--1\" href=\"https://www.adapt.io/company/access-point--inc--1\">Access Point, Inc.</a></div><div class=\"DirectoryList_linkItemWrapper__3F2UE \"><a content=\"https://www.adapt.io/company/access-vermont\" href=\"https://www.adapt.io/company/access-vermont\">Access Vermont</a></div><div class=\"DirectoryList_linkItemWrapper__3F2UE \"><a content=\"https://www.adapt.io/company/access-wireless-data-solutions\" href=\"https://www.adapt.io/company/access-wireless-data-solutions\">Access Wireless Data Solutions</a></div><div class=\"DirectoryList_linkItemWrapper__3F2UE \"><a content=\"https://www.adapt.io/company/accordent-technologies\" href=\"https://www.adapt.io/company/accordent-technologies\">Polycom</a></div><div class=\"DirectoryList_linkItemWrapper__3F2UE \"><a content=\"https://www.adapt.io/company/accrotool-com\" href=\"https://www.adapt.io/company/accrotool-com\">accrotool.com</a></div><div class=\"DirectoryList_linkItemWrapper__3F2UE \"><a content=\"https://www.adapt.io/company/accu-tech-corporation-1\" href=\"https://www.adapt.io/company/accu-tech-corporation-1\">Accu-Tech</a></div><div class=\"DirectoryList_linkItemWrapper__3F2UE \"><a content=\"https://www.adapt.io/company/accuair--inc-\" href=\"https://www.adapt.io/company/accuair--inc-\">AccuAir, Inc.</a></div><div class=\"DirectoryList_linkItemWrapper__3F2UE \"><a content=\"https://www.adapt.io/company/accuconference\" href=\"https://www.adapt.io/company/accuconference\">AccuConference</a></div><div class=\"DirectoryList_linkItemWrapper__3F2UE \"><a content=\"https://www.adapt.io/company/accurate-connections--inc-\" href=\"https://www.adapt.io/company/accurate-connections--inc-\">Accurate Connections, Inc.</a></div><div class=\"DirectoryList_linkItemWrapper__3F2UE \"><a content=\"https://www.adapt.io/company/accurate-telecom-1\" href=\"https://www.adapt.io/company/accurate-telecom-1\">Accurate Telecom</a></div><div class=\"DirectoryList_linkItemWrapper__3F2UE \"><a content=\"https://www.adapt.io/company/accutel-com-1\" href=\"https://www.adapt.io/company/accutel-com-1\">Accutel</a></div><div class=\"DirectoryList_linkItemWrapper__3F2UE \"><a content=\"https://www.adapt.io/company/accuvoice-inc-\" href=\"https://www.adapt.io/company/accuvoice-inc-\">Accuvoice Inc.</a></div><div class=\"DirectoryList_linkItemWrapper__3F2UE \"><a content=\"https://www.adapt.io/company/acd-direct\" href=\"https://www.adapt.io/company/acd-direct\">ACD Direct</a></div><div class=\"DirectoryList_linkItemWrapper__3F2UE \"><a content=\"https://www.adapt.io/company/acecape-inc-\" href=\"https://www.adapt.io/company/acecape-inc-\">Acecape Inc.</a></div><div class=\"DirectoryList_linkItemWrapper__3F2UE \"><a content=\"https://www.adapt.io/company/acg-systems--inc-1\" href=\"https://www.adapt.io/company/acg-systems--inc-1\">ACG Systems</a></div><div class=\"DirectoryList_linkItemWrapper__3F2UE \"><a content=\"https://www.adapt.io/company/aci-communications--inc-\" href=\"https://www.adapt.io/company/aci-communications--inc-\">ACI Communications</a></div><div class=\"DirectoryList_linkItemWrapper__3F2UE \"><a content=\"https://www.adapt.io/company/acision-2\" href=\"https://www.adapt.io/company/acision-2\">Acision</a></div><div class=\"DirectoryList_linkItemWrapper__3F2UE \"><a content=\"https://www.adapt.io/company/acn-29\" href=\"https://www.adapt.io/company/acn-29\">ACN</a></div><div class=\"DirectoryList_linkItemWrapper__3F2UE \"><a content=\"https://www.adapt.io/company/acn-30\" href=\"https://www.adapt.io/company/acn-30\">Lkn Communications Inc.</a></div><div class=\"DirectoryList_linkItemWrapper__3F2UE DirectoryList_noBorder__JnRfc\"><a content=\"https://www.adapt.io/company/acotel-groupo-1\" href=\"https://www.adapt.io/company/acotel-groupo-1\">Acotel</a></div><div class=\"DirectoryList_linkItemWrapper__3F2UE DirectoryList_noBorder__JnRfc\"><a content=\"https://www.adapt.io/company/acpltd-ca\" href=\"https://www.adapt.io/company/acpltd-ca\">Argosy Communication Products Ltd.</a></div></div></div><div class=\"DirectoryList_actionWrapper__2kJha\"><div class=\"DirectoryList_actionBtnLink__Seqhh undefined\"><a content=\"https://www.adapt.io/directory/industry/telecommunications/A-2\" href=\"https://www.adapt.io/directory/industry/telecommunications/A-2\">Next</a><div class=\"DirectoryList_iconWrapper__umG40\"><svg xmlns=\"http://www.w3.org/2000/svg\" viewBox=\"0 0 24 24\" width=\"48\" height=\"48\"><path fill=\"none\" d=\"M0 0h24v24H0z\"/><path d=\"M9.29 15.46l3.88-3.88L9.29 7.7a.996.996 0 111.41-1.41l4.59 4.59c.39.39.39 1.02 0 1.41l-4.59 4.59a.996.996 0 01-1.41 0c-.38-.39-.39-1.03 0-1.42z\"/></svg></div></div></div></div></div><footer class=\"Footer_footerContainer__13JG-\"><div class=\"Footer_footerWrapper__3iQA2\"><p><a href=\"/blog\" target=\"_blank\" itemProp=\"url\">Blog</a><a href=\"/privacy.htm\">Privacy</a><a href=\"/termsAndConditions.htm\">Terms of Use</a><a href=\"https://adaptio.freshdesk.com/support/solutions\" rel=\"nofollow\">FAQ</a><a title=\"contact us\" href=\"mailto:support@adapt.io\" target=\"_blank\" rel=\"nofollow\">Contact Us</a></p><p class=\"Footer_copyRightSection__1uJid\">\\xc2\\xa9 2021 All Rights Reserved. <!-- -->SLI Technologies Inc.</p></div></footer></main></div></div><script id=\"__NEXT_DATA__\" type=\"application/json\">{\"props\":{\"pageProps\":{\"isGoogleBot\":false,\"directoryDataStatus\":200,\"seoDirectoryTopInfoData\":{\"title\":\"Industry Directory - Telecommunications - A - 1\",\"showAlphabetLink\":true,\"activeLink\":\"A\"},\"seoDirectoryData\":{\"metaTitle\":\"Companies in Telecommunications industry | Alphabet A | B2B Company List | Adapt.io\",\"metaDescription\":\"Find the companies and top contacts working in Telecommunications industry that starts with alphabet A. Get the B2B company list at Adapt.io\",\"seoListLinks\":[{\"seoUrl\":\"a--communications-and-security\",\"name\":\"A + Communications and Security\"},{\"seoUrl\":\"a-a-technology-group\",\"name\":\"A\\\\u0026A Technology Group\"},{\"seoUrl\":\"a-better-answer-4\",\"name\":\"A Better Answer\"},{\"seoUrl\":\"a-cheerful-giver-inc-1\",\"name\":\"A Cheerful Giver\"},{\"seoUrl\":\"a-cti-1\",\"name\":\"A-CTI\"},{\"seoUrl\":\"a-p-g-inc\",\"name\":\"A P G Inc\"},{\"seoUrl\":\"a-r-management-solutions--llc\",\"name\":\"Crexendo Business Solutions\"},{\"seoUrl\":\"a-v--lauttamus-communications--inc-\",\"name\":\"A.V. Lauttamus Communications, Inc.\"},{\"seoUrl\":\"a-v-services--inc-\",\"name\":\"A-V Services, Inc.\"},{\"seoUrl\":\"a1-teletronics-inc-\",\"name\":\"A1 Teletronics\"},{\"seoUrl\":\"abacus-group--inc--1\",\"name\":\"Abacus Group, Inc.\"},{\"seoUrl\":\"abadi-group-1\",\"name\":\"Abadi Group\"},{\"seoUrl\":\"abcom-llc\",\"name\":\"ABcom\"},{\"seoUrl\":\"abilita-5\",\"name\":\"Abilita\"},{\"seoUrl\":\"abis-3\",\"name\":\"ABIS\"},{\"seoUrl\":\"abmnus-llc\",\"name\":\"Abmnus\"},{\"seoUrl\":\"about-wireless-1\",\"name\":\"Wireless USA\"},{\"seoUrl\":\"abovenet-2\",\"name\":\"AboveNet\"},{\"seoUrl\":\"abr-industries\",\"name\":\"ABR Industries\"},{\"seoUrl\":\"abs-communications-llc\",\"name\":\"ABS Communications\"},{\"seoUrl\":\"absolute-wireless-\",\"name\":\"Absolute Wireless\"},{\"seoUrl\":\"ac-photonics\",\"name\":\"acphotonics\"},{\"seoUrl\":\"acacia-communications-inc-\",\"name\":\"Acacia Communications\"},{\"seoUrl\":\"acbb-bits-llc\",\"name\":\"ACBB-BITS LLC\"},{\"seoUrl\":\"acc-business\",\"name\":\"ACC Business\"},{\"seoUrl\":\"acceltex-solutions-2\",\"name\":\"AccelTex Solutions\"},{\"seoUrl\":\"accesradio-com\",\"name\":\"Acces Communications\"},{\"seoUrl\":\"access-communications-cooperative-limited\",\"name\":\"Access Communications Cooperative Limited\"},{\"seoUrl\":\"access-point--inc--1\",\"name\":\"Access Point, Inc.\"},{\"seoUrl\":\"access-vermont\",\"name\":\"Access Vermont\"},{\"seoUrl\":\"access-wireless-data-solutions\",\"name\":\"Access Wireless Data Solutions\"},{\"seoUrl\":\"accordent-technologies\",\"name\":\"Polycom\"},{\"seoUrl\":\"accrotool-com\",\"name\":\"accrotool.com\"},{\"seoUrl\":\"accu-tech-corporation-1\",\"name\":\"Accu-Tech\"},{\"seoUrl\":\"accuair--inc-\",\"name\":\"AccuAir, Inc.\"},{\"seoUrl\":\"accuconference\",\"name\":\"AccuConference\"},{\"seoUrl\":\"accurate-connections--inc-\",\"name\":\"Accurate Connections, Inc.\"},{\"seoUrl\":\"accurate-telecom-1\",\"name\":\"Accurate Telecom\"},{\"seoUrl\":\"accutel-com-1\",\"name\":\"Accutel\"},{\"seoUrl\":\"accuvoice-inc-\",\"name\":\"Accuvoice Inc.\"},{\"seoUrl\":\"acd-direct\",\"name\":\"ACD Direct\"},{\"seoUrl\":\"acecape-inc-\",\"name\":\"Acecape Inc.\"},{\"seoUrl\":\"acg-systems--inc-1\",\"name\":\"ACG Systems\"},{\"seoUrl\":\"aci-communications--inc-\",\"name\":\"ACI Communications\"},{\"seoUrl\":\"acision-2\",\"name\":\"Acision\"},{\"seoUrl\":\"acn-29\",\"name\":\"ACN\"},{\"seoUrl\":\"acn-30\",\"name\":\"Lkn Communications Inc.\"},{\"seoUrl\":\"acotel-groupo-1\",\"name\":\"Acotel\"},{\"seoUrl\":\"acpltd-ca\",\"name\":\"Argosy Communication Products Ltd.\"}],\"nextUrl\":\"A-2\",\"prevUrl\":null,\"industryName\":\"Telecommunications\",\"activePath\":\"A\",\"activePathNumber\":1,\"alphabetPrefixLink\":\"/directory/industry/telecommunications\"},\"seoPath\":\"telecommunications/A-1\"},\"__N_SSP\":true},\"page\":\"/directory/industry/[...industryDirectorySeoPath]\",\"query\":{\"industryDirectorySeoPath\":[\"telecommunications\",\"A-1\"]},\"buildId\":\"L61aXl6qr4EBsldiDW3ux\",\"isFallback\":false,\"gssp\":true,\"locale\":\"en-US\",\"locales\":[\"en-US\"],\"defaultLocale\":\"en-US\"}</script><script nomodule=\"\" src=\"/_next/static/chunks/polyfills-68084dacc4bae4cb362b.js\"></script><script src=\"/_next/static/chunks/main-7b0370ae5ee8ca69a8e3.js\" async=\"\"></script><script src=\"/_next/static/chunks/webpack-324a97b9e09a33133866.js\" async=\"\"></script><script src=\"/_next/static/chunks/framework.eb7e4030fecc3bcac0db.js\" async=\"\"></script><script src=\"/_next/static/chunks/44ca27d0083750f9c52e4c9c7da7ba5e37d0c178.7652ce0a15a0aa80a0a1.js\" async=\"\"></script><script src=\"/_next/static/chunks/pages/_app-e684ee83e9a1f6a153f2.js\" async=\"\"></script><script src=\"/_next/static/chunks/e82996df.80fc43e08d188cb71862.js\" async=\"\"></script><script src=\"/_next/static/chunks/c0d53ec4.f13d42fc01398e9ef007.js\" async=\"\"></script><script src=\"/_next/static/chunks/3aabab4ccf84bf1027139b25c3cf6691b36093cc.d168ea96714052437202.js\" async=\"\"></script><script src=\"/_next/static/chunks/d5ea0434147ae87205344fc99fa6f1a10ee48c6d.0896faa6ebfd9a40bdc9.js\" async=\"\"></script><script src=\"/_next/static/chunks/3a9a53ed6d026461dac72307bb72fdcc2922b04e.d49be9254d0721833d14.js\" async=\"\"></script><script src=\"/_next/static/chunks/3a9a53ed6d026461dac72307bb72fdcc2922b04e_CSS.ceef42eb591200e32412.js\" async=\"\"></script><script src=\"/_next/static/chunks/pages/directory/industry/%5B...industryDirectorySeoPath%5D-5c73d6afb936901f63de.js\" async=\"\"></script><script src=\"/_next/static/L61aXl6qr4EBsldiDW3ux/_buildManifest.js\" async=\"\"></script><script src=\"/_next/static/L61aXl6qr4EBsldiDW3ux/_ssgManifest.js\" async=\"\"></script></body></html>'\n"
     ]
    }
   ],
   "source": [
    "print(response.content)"
   ]
  },
  {
   "cell_type": "markdown",
   "metadata": {},
   "source": [
    "Validating Response code"
   ]
  },
  {
   "cell_type": "code",
   "execution_count": 266,
   "metadata": {},
   "outputs": [],
   "source": [
    "assert response.status_code == 200"
   ]
  },
  {
   "cell_type": "markdown",
   "metadata": {},
   "source": [
    "The assertion is passed. We see that the response status code is matched the response code."
   ]
  },
  {
   "cell_type": "markdown",
   "metadata": {},
   "source": [
    "# Fetch Header from Response"
   ]
  },
  {
   "cell_type": "code",
   "execution_count": 267,
   "metadata": {},
   "outputs": [
    {
     "name": "stdout",
     "output_type": "stream",
     "text": [
      "{'Date': 'Wed, 25 Aug 2021 16:35:02 GMT', 'Content-Type': 'text/html; charset=utf-8', 'Transfer-Encoding': 'chunked', 'Connection': 'keep-alive', 'Set-Cookie': 'AWSALB=2D+tYrm5AhpD/QTG9LUjJVoMerKHDRH0C12Quz0Ip06nIF58C0yhgCiDqgdSDfXkmzr4hXc/v9hG0HajMRNWzGuT7OqsXy/0RbmhmFHm73MWt0vYfmtcsIrNK4CI; Expires=Wed, 01 Sep 2021 16:35:01 GMT; Path=/, AWSALBCORS=2D+tYrm5AhpD/QTG9LUjJVoMerKHDRH0C12Quz0Ip06nIF58C0yhgCiDqgdSDfXkmzr4hXc/v9hG0HajMRNWzGuT7OqsXy/0RbmhmFHm73MWt0vYfmtcsIrNK4CI; Expires=Wed, 01 Sep 2021 16:35:01 GMT; Path=/; SameSite=None; Secure', 'Server': 'nginx', 'X-Powered-By': 'Next.js', 'ETag': '\"6efb-rYHSC6IoN2NNNv+A9qf5Xh/RKc4\"', 'Cache-Control': 'private, no-cache, no-store, max-age=0, must-revalidate', 'Vary': 'Accept-Encoding', 'Content-Encoding': 'gzip', 'X-Upstream': 'seopages'}\n"
     ]
    }
   ],
   "source": [
    "print(response.headers)"
   ]
  },
  {
   "cell_type": "code",
   "execution_count": 268,
   "metadata": {},
   "outputs": [
    {
     "name": "stdout",
     "output_type": "stream",
     "text": [
      "text/html; charset=utf-8\n"
     ]
    }
   ],
   "source": [
    "print(response.headers.get('Content-Type'))"
   ]
  },
  {
   "cell_type": "markdown",
   "metadata": {},
   "source": [
    "# API testing using python - Write Test Case- PUT Request"
   ]
  },
  {
   "cell_type": "code",
   "execution_count": 269,
   "metadata": {},
   "outputs": [],
   "source": [
    "url = 'https://www.adapt.io/directory/industry/telecommunications/A-1'"
   ]
  },
  {
   "cell_type": "code",
   "execution_count": 271,
   "metadata": {},
   "outputs": [],
   "source": [
    "json_data2 = open(\"C:/Users/Dell/PycharmProjects/company_index.json\").read()"
   ]
  },
  {
   "cell_type": "code",
   "execution_count": 272,
   "metadata": {},
   "outputs": [],
   "source": [
    "requests_json2 = json.loads(json_data2)"
   ]
  },
  {
   "cell_type": "markdown",
   "metadata": {},
   "source": [
    "Code for the put request with Json Input body."
   ]
  },
  {
   "cell_type": "code",
   "execution_count": 275,
   "metadata": {},
   "outputs": [],
   "source": [
    "response2 = requests.put(url,requests_json2)"
   ]
  },
  {
   "cell_type": "code",
   "execution_count": 276,
   "metadata": {},
   "outputs": [
    {
     "name": "stdout",
     "output_type": "stream",
     "text": [
      "b'<!DOCTYPE html><html lang=\"en-US\"><head><meta charSet=\"utf-8\"/><meta http-equiv=\"Content-Type\" content=\"text/html; charset=UTF-8\"/><meta name=\"viewport\" content=\"width=device-width, initial-scale=1\"/><title>Companies in Telecommunications industry | Alphabet A | B2B Company List | Adapt.io</title><meta name=\"description\" content=\"Find the companies and top contacts working in Telecommunications industry that starts with alphabet A. Get the B2B company list at Adapt.io\"/><link rel=\"icon\" href=\"/favicon.ico\"/><link rel=\"preconnect\" href=\"www.google-analytics.com\"/><link rel=\"preconnect\" href=\"www.googletagmanager.com\"/><script>(function(w,d,s,l,i){w[l]=w[l]||[];w[l].push({\\'gtm.start\\':\\n          new Date().getTime(),event:\\'gtm.js\\'});var f=d.getElementsByTagName(s)[0],\\n          j=d.createElement(s),dl=l!=\\'dataLayer\\'?\\'&l=\\'+l:\\'\\';j.async=true;j.src=\\n          \\'https://www.googletagmanager.com/gtm.js?id=\\'+i+dl;f.parentNode.insertBefore(j,f);\\n          })(window,document,\\'script\\',\\'dataLayer\\', \\'GTM-WJDZDLZ\\');</script><meta name=\"next-head-count\" content=\"9\"/><link rel=\"preload\" href=\"/_next/static/css/2e6840652acdb0c23422.css\" as=\"style\"/><link rel=\"stylesheet\" href=\"/_next/static/css/2e6840652acdb0c23422.css\" data-n-g=\"\"/><link rel=\"preload\" href=\"/_next/static/css/07acec2f92c974ff3e18.css\" as=\"style\"/><link rel=\"stylesheet\" href=\"/_next/static/css/07acec2f92c974ff3e18.css\" data-n-p=\"\"/><noscript data-n-css=\"\"></noscript><link rel=\"preload\" href=\"/_next/static/chunks/main-7b0370ae5ee8ca69a8e3.js\" as=\"script\"/><link rel=\"preload\" href=\"/_next/static/chunks/webpack-324a97b9e09a33133866.js\" as=\"script\"/><link rel=\"preload\" href=\"/_next/static/chunks/framework.eb7e4030fecc3bcac0db.js\" as=\"script\"/><link rel=\"preload\" href=\"/_next/static/chunks/44ca27d0083750f9c52e4c9c7da7ba5e37d0c178.7652ce0a15a0aa80a0a1.js\" as=\"script\"/><link rel=\"preload\" href=\"/_next/static/chunks/pages/_app-e684ee83e9a1f6a153f2.js\" as=\"script\"/><link rel=\"preload\" href=\"/_next/static/chunks/e82996df.80fc43e08d188cb71862.js\" as=\"script\"/><link rel=\"preload\" href=\"/_next/static/chunks/c0d53ec4.f13d42fc01398e9ef007.js\" as=\"script\"/><link rel=\"preload\" href=\"/_next/static/chunks/3aabab4ccf84bf1027139b25c3cf6691b36093cc.d168ea96714052437202.js\" as=\"script\"/><link rel=\"preload\" href=\"/_next/static/chunks/d5ea0434147ae87205344fc99fa6f1a10ee48c6d.0896faa6ebfd9a40bdc9.js\" as=\"script\"/><link rel=\"preload\" href=\"/_next/static/chunks/3a9a53ed6d026461dac72307bb72fdcc2922b04e.d49be9254d0721833d14.js\" as=\"script\"/><link rel=\"preload\" href=\"/_next/static/chunks/3a9a53ed6d026461dac72307bb72fdcc2922b04e_CSS.ceef42eb591200e32412.js\" as=\"script\"/><link rel=\"preload\" href=\"/_next/static/chunks/pages/directory/industry/%5B...industryDirectorySeoPath%5D-5c73d6afb936901f63de.js\" as=\"script\"/><style id=\"__jsx-1445188424\">.simpleButton.orangeBtn{border-radius:4px;color:#fff;background-color:#fe6817;border-color:#fe6817;padding:12px 20px 10px 20px;}.simpleButton.actionBtn{margin:20px 10px 0;}.simpleButton.orangeBorderBtn{border-color:#fe6817;color:#fe6817;}.simpleButton.orangeBorderBtn:hover{-webkit-text-decoration:none;text-decoration:none;}.simpleButton.orangeBtn .iconStart svg path{fill:#fff;}</style><style id=\"__jsx-3777127176\">.simpleButton.mailPhoneBtn{color:#3e3e40;border-radius:18px;border:solid 1px #cfd5fe;padding:9px 16px 5px;margin:10px 0 0;font-family:\"Graphik-Regular\";-webkit-align-items:flex-start;-webkit-box-align:flex-start;-ms-flex-align:flex-start;align-items:flex-start;word-break:break-all;text-align:left;}.simpleButton.mailPhoneBtn:hover{background-color:#f6f7ff;}.simpleButton.mailPhoneBtn.phoneBtn{border-color:#ffdac7;}.simpleButton.mailPhoneBtn.phoneBtn:hover{background-color:#fff4ee;}.simpleButton.mailPhoneBtn .iconStart svg{width:13px;height:13px;}.simpleButton.phoneBtn .iconStart svg path{fill:#45548c;}</style></head><body><div id=\"__next\"><div class=\"Directory_container__3HjWL directoryPage\"><noscript><iframe src=\"https://www.googletagmanager.com/ns.html?id=GTM-WJDZDLZ\"\\n          height=\"0\" width=\"0\" style=\"display:none;visibility:hidden\"></iframe></noscript><main><div class=\"Header_headerContainer__TIQpL\"><div class=\"Header_headerWrapper__1_mv-\"><a class=\"Logo_logo__yhxeF\" href=\"https://www.adapt.io\">adapt</a><div class=\"Menu_menuContainer__1ZRHY \"><div class=\"Menu_mobileMenuContainer__6juf8\"><svg xmlns=\"http://www.w3.org/2000/svg\" viewBox=\"0 0 24 24\" width=\"48\" height=\"48\"><path d=\"M0 0h24v24H0z\" fill=\"none\"/><path d=\"M3 18h18v-2H3v2zm0-5h18v-2H3v2zm0-7v2h18V6H3z\"/></svg></div><div class=\"Menu_mobileMenuMask__3DYUa\"></div><div class=\"Menu_menuList__u91dk\"><div class=\"Menu_menuItem__2uFdv Menu_hasSubMenu__2vmyI\"><a href=\"https://www.adapt.io/products/lead-builder/\">Products</a><span class=\"Menu_subMenuList__HSM9c\"><a href=\"https://www.adapt.io/products/lead-builder/\">Lead Builder</a><a href=\"https://www.adapt.io/products/prospector/\">Prospector</a></span></div><div class=\"Menu_menuItem__2uFdv Menu_hasSubMenu__2vmyI\"><a href=\"https://www.adapt.io/solutions/marketing/\">Solutions</a><span class=\"Menu_subMenuList__HSM9c\"><a href=\"https://www.adapt.io/solutions/marketing/\">Marketing</a><a href=\"https://www.adapt.io/solutions/sales/\">Sales</a><a href=\"https://www.adapt.io/solutions/recruiting/\">Recruiting</a></span></div><a href=\"https://www.adapt.io/pricing.htm\" itemProp=\"url\" class=\"Menu_menuItem__2uFdv Menu_noSubMenu__3ygY2\">Pricing</a><a href=\"https://www.adapt.io/api-documentation.htm\" itemProp=\"url\" rel=\"nofollow\" class=\"Menu_menuItem__2uFdv Menu_noSubMenu__3ygY2\">API</a><div class=\"Menu_menuItem__2uFdv Menu_hasSubMenu__2vmyI\"><a href=\"/about\" itemProp=\"url\">About</a><span class=\"Menu_subMenuList__HSM9c\"><a href=\"/about\" target=\"_blank\">Our Story</a><a href=\"/about/our-data\" target=\"_blank\">Our Data</a><a href=\"/about/team\" target=\"_blank\">Team</a><a href=\"/careers/\" target=\"_blank\">Careers</a><a href=\"/about/adapt-scholarship/\" rel=\"nofollow\" target=\"_blank\" itemProp=\"url\">Scholarship Program</a><a href=\"/about/customer-testimonials/\" target=\"_blank\" itemProp=\"url\">Customer Testimonials</a></span></div><a href=\"/blog\" target=\"_blank\" class=\"Menu_menuItem__2uFdv\">Blog</a><a href=\"https://www.adapt.io/login.htm?slc=web&amp;login=true\" class=\"Menu_menuItem__2uFdv Menu_noSubMenu__3ygY2\" itemProp=\"url\">Sign In</a><a itemProp=\"url\" href=\"https://www.adapt.io/request-demo/\" class=\"Menu_menuItem__2uFdv Menu_noSubMenu__3ygY2 Menu_requestDemoBtn__1bysr\">REQUEST DEMO</a></div></div></div></div><div class=\"DirectoryPage_directoryPageContainer__1NdWc\" itemscope=\"\" itemType=\"http://schema.org/Organization\"><div class=\"DirectoryTopInfo_directoryTopInfoContainer__35RPf\"><div class=\"DirectoryTopInfo_roundedBorder__wcfEm DirectoryTopInfo_infoWrapper__UknMm\"><h1>Industry Directory - Telecommunications - A - 1</h1><div class=\"DirectoryTopInfo_alphabetLinkListWrapper__4a1SM\"><div class=\"DirectoryTopInfo_linkItemWrapper__2MyQQ DirectoryTopInfo_activeLinkWrapper__3CoZV\"><a content=\"https://www.adapt.io/directory/industry/telecommunications/A-1\" href=\"https://www.adapt.io/directory/industry/telecommunications/A-1\">A</a></div><div class=\"DirectoryTopInfo_linkItemWrapper__2MyQQ \"><a content=\"https://www.adapt.io/directory/industry/telecommunications/B-1\" href=\"https://www.adapt.io/directory/industry/telecommunications/B-1\">B</a></div><div class=\"DirectoryTopInfo_linkItemWrapper__2MyQQ \"><a content=\"https://www.adapt.io/directory/industry/telecommunications/C-1\" href=\"https://www.adapt.io/directory/industry/telecommunications/C-1\">C</a></div><div class=\"DirectoryTopInfo_linkItemWrapper__2MyQQ \"><a content=\"https://www.adapt.io/directory/industry/telecommunications/D-1\" href=\"https://www.adapt.io/directory/industry/telecommunications/D-1\">D</a></div><div class=\"DirectoryTopInfo_linkItemWrapper__2MyQQ \"><a content=\"https://www.adapt.io/directory/industry/telecommunications/E-1\" href=\"https://www.adapt.io/directory/industry/telecommunications/E-1\">E</a></div><div class=\"DirectoryTopInfo_linkItemWrapper__2MyQQ \"><a content=\"https://www.adapt.io/directory/industry/telecommunications/F-1\" href=\"https://www.adapt.io/directory/industry/telecommunications/F-1\">F</a></div><div class=\"DirectoryTopInfo_linkItemWrapper__2MyQQ \"><a content=\"https://www.adapt.io/directory/industry/telecommunications/G-1\" href=\"https://www.adapt.io/directory/industry/telecommunications/G-1\">G</a></div><div class=\"DirectoryTopInfo_linkItemWrapper__2MyQQ \"><a content=\"https://www.adapt.io/directory/industry/telecommunications/H-1\" href=\"https://www.adapt.io/directory/industry/telecommunications/H-1\">H</a></div><div class=\"DirectoryTopInfo_linkItemWrapper__2MyQQ \"><a content=\"https://www.adapt.io/directory/industry/telecommunications/I-1\" href=\"https://www.adapt.io/directory/industry/telecommunications/I-1\">I</a></div><div class=\"DirectoryTopInfo_linkItemWrapper__2MyQQ \"><a content=\"https://www.adapt.io/directory/industry/telecommunications/J-1\" href=\"https://www.adapt.io/directory/industry/telecommunications/J-1\">J</a></div><div class=\"DirectoryTopInfo_linkItemWrapper__2MyQQ \"><a content=\"https://www.adapt.io/directory/industry/telecommunications/K-1\" href=\"https://www.adapt.io/directory/industry/telecommunications/K-1\">K</a></div><div class=\"DirectoryTopInfo_linkItemWrapper__2MyQQ \"><a content=\"https://www.adapt.io/directory/industry/telecommunications/L-1\" href=\"https://www.adapt.io/directory/industry/telecommunications/L-1\">L</a></div><div class=\"DirectoryTopInfo_linkItemWrapper__2MyQQ \"><a content=\"https://www.adapt.io/directory/industry/telecommunications/M-1\" href=\"https://www.adapt.io/directory/industry/telecommunications/M-1\">M</a></div><div class=\"DirectoryTopInfo_linkItemWrapper__2MyQQ \"><a content=\"https://www.adapt.io/directory/industry/telecommunications/N-1\" href=\"https://www.adapt.io/directory/industry/telecommunications/N-1\">N</a></div><div class=\"DirectoryTopInfo_linkItemWrapper__2MyQQ \"><a content=\"https://www.adapt.io/directory/industry/telecommunications/O-1\" href=\"https://www.adapt.io/directory/industry/telecommunications/O-1\">O</a></div><div class=\"DirectoryTopInfo_linkItemWrapper__2MyQQ \"><a content=\"https://www.adapt.io/directory/industry/telecommunications/P-1\" href=\"https://www.adapt.io/directory/industry/telecommunications/P-1\">P</a></div><div class=\"DirectoryTopInfo_linkItemWrapper__2MyQQ \"><a content=\"https://www.adapt.io/directory/industry/telecommunications/Q-1\" href=\"https://www.adapt.io/directory/industry/telecommunications/Q-1\">Q</a></div><div class=\"DirectoryTopInfo_linkItemWrapper__2MyQQ \"><a content=\"https://www.adapt.io/directory/industry/telecommunications/R-1\" href=\"https://www.adapt.io/directory/industry/telecommunications/R-1\">R</a></div><div class=\"DirectoryTopInfo_linkItemWrapper__2MyQQ \"><a content=\"https://www.adapt.io/directory/industry/telecommunications/S-1\" href=\"https://www.adapt.io/directory/industry/telecommunications/S-1\">S</a></div><div class=\"DirectoryTopInfo_linkItemWrapper__2MyQQ \"><a content=\"https://www.adapt.io/directory/industry/telecommunications/T-1\" href=\"https://www.adapt.io/directory/industry/telecommunications/T-1\">T</a></div><div class=\"DirectoryTopInfo_linkItemWrapper__2MyQQ \"><a content=\"https://www.adapt.io/directory/industry/telecommunications/U-1\" href=\"https://www.adapt.io/directory/industry/telecommunications/U-1\">U</a></div><div class=\"DirectoryTopInfo_linkItemWrapper__2MyQQ \"><a content=\"https://www.adapt.io/directory/industry/telecommunications/V-1\" href=\"https://www.adapt.io/directory/industry/telecommunications/V-1\">V</a></div><div class=\"DirectoryTopInfo_linkItemWrapper__2MyQQ \"><a content=\"https://www.adapt.io/directory/industry/telecommunications/W-1\" href=\"https://www.adapt.io/directory/industry/telecommunications/W-1\">W</a></div><div class=\"DirectoryTopInfo_linkItemWrapper__2MyQQ \"><a content=\"https://www.adapt.io/directory/industry/telecommunications/X-1\" href=\"https://www.adapt.io/directory/industry/telecommunications/X-1\">X</a></div><div class=\"DirectoryTopInfo_linkItemWrapper__2MyQQ \"><a content=\"https://www.adapt.io/directory/industry/telecommunications/Y-1\" href=\"https://www.adapt.io/directory/industry/telecommunications/Y-1\">Y</a></div><div class=\"DirectoryTopInfo_linkItemWrapper__2MyQQ \"><a content=\"https://www.adapt.io/directory/industry/telecommunications/Z-1\" href=\"https://www.adapt.io/directory/industry/telecommunications/Z-1\">Z</a></div></div></div></div><div class=\"DirectoryList_directoryListContainer__7AiMy\"><div class=\"DirectoryList_roundedBorder__3kE22 DirectoryList_infoWrapper__A0-sM\"><div class=\"DirectoryList_seoDirectoryList__aMaj8\"><div class=\"DirectoryList_linkItemWrapper__3F2UE \"><a content=\"https://www.adapt.io/company/a--communications-and-security\" href=\"https://www.adapt.io/company/a--communications-and-security\">A + Communications and Security</a></div><div class=\"DirectoryList_linkItemWrapper__3F2UE \"><a content=\"https://www.adapt.io/company/a-a-technology-group\" href=\"https://www.adapt.io/company/a-a-technology-group\">A&amp;A Technology Group</a></div><div class=\"DirectoryList_linkItemWrapper__3F2UE \"><a content=\"https://www.adapt.io/company/a-better-answer-4\" href=\"https://www.adapt.io/company/a-better-answer-4\">A Better Answer</a></div><div class=\"DirectoryList_linkItemWrapper__3F2UE \"><a content=\"https://www.adapt.io/company/a-cheerful-giver-inc-1\" href=\"https://www.adapt.io/company/a-cheerful-giver-inc-1\">A Cheerful Giver</a></div><div class=\"DirectoryList_linkItemWrapper__3F2UE \"><a content=\"https://www.adapt.io/company/a-cti-1\" href=\"https://www.adapt.io/company/a-cti-1\">A-CTI</a></div><div class=\"DirectoryList_linkItemWrapper__3F2UE \"><a content=\"https://www.adapt.io/company/a-p-g-inc\" href=\"https://www.adapt.io/company/a-p-g-inc\">A P G Inc</a></div><div class=\"DirectoryList_linkItemWrapper__3F2UE \"><a content=\"https://www.adapt.io/company/a-r-management-solutions--llc\" href=\"https://www.adapt.io/company/a-r-management-solutions--llc\">Crexendo Business Solutions</a></div><div class=\"DirectoryList_linkItemWrapper__3F2UE \"><a content=\"https://www.adapt.io/company/a-v--lauttamus-communications--inc-\" href=\"https://www.adapt.io/company/a-v--lauttamus-communications--inc-\">A.V. Lauttamus Communications, Inc.</a></div><div class=\"DirectoryList_linkItemWrapper__3F2UE \"><a content=\"https://www.adapt.io/company/a-v-services--inc-\" href=\"https://www.adapt.io/company/a-v-services--inc-\">A-V Services, Inc.</a></div><div class=\"DirectoryList_linkItemWrapper__3F2UE \"><a content=\"https://www.adapt.io/company/a1-teletronics-inc-\" href=\"https://www.adapt.io/company/a1-teletronics-inc-\">A1 Teletronics</a></div><div class=\"DirectoryList_linkItemWrapper__3F2UE \"><a content=\"https://www.adapt.io/company/abacus-group--inc--1\" href=\"https://www.adapt.io/company/abacus-group--inc--1\">Abacus Group, Inc.</a></div><div class=\"DirectoryList_linkItemWrapper__3F2UE \"><a content=\"https://www.adapt.io/company/abadi-group-1\" href=\"https://www.adapt.io/company/abadi-group-1\">Abadi Group</a></div><div class=\"DirectoryList_linkItemWrapper__3F2UE \"><a content=\"https://www.adapt.io/company/abcom-llc\" href=\"https://www.adapt.io/company/abcom-llc\">ABcom</a></div><div class=\"DirectoryList_linkItemWrapper__3F2UE \"><a content=\"https://www.adapt.io/company/abilita-5\" href=\"https://www.adapt.io/company/abilita-5\">Abilita</a></div><div class=\"DirectoryList_linkItemWrapper__3F2UE \"><a content=\"https://www.adapt.io/company/abis-3\" href=\"https://www.adapt.io/company/abis-3\">ABIS</a></div><div class=\"DirectoryList_linkItemWrapper__3F2UE \"><a content=\"https://www.adapt.io/company/abmnus-llc\" href=\"https://www.adapt.io/company/abmnus-llc\">Abmnus</a></div><div class=\"DirectoryList_linkItemWrapper__3F2UE \"><a content=\"https://www.adapt.io/company/about-wireless-1\" href=\"https://www.adapt.io/company/about-wireless-1\">Wireless USA</a></div><div class=\"DirectoryList_linkItemWrapper__3F2UE \"><a content=\"https://www.adapt.io/company/abovenet-2\" href=\"https://www.adapt.io/company/abovenet-2\">AboveNet</a></div><div class=\"DirectoryList_linkItemWrapper__3F2UE \"><a content=\"https://www.adapt.io/company/abr-industries\" href=\"https://www.adapt.io/company/abr-industries\">ABR Industries</a></div><div class=\"DirectoryList_linkItemWrapper__3F2UE \"><a content=\"https://www.adapt.io/company/abs-communications-llc\" href=\"https://www.adapt.io/company/abs-communications-llc\">ABS Communications</a></div><div class=\"DirectoryList_linkItemWrapper__3F2UE \"><a content=\"https://www.adapt.io/company/absolute-wireless-\" href=\"https://www.adapt.io/company/absolute-wireless-\">Absolute Wireless</a></div><div class=\"DirectoryList_linkItemWrapper__3F2UE \"><a content=\"https://www.adapt.io/company/ac-photonics\" href=\"https://www.adapt.io/company/ac-photonics\">acphotonics</a></div><div class=\"DirectoryList_linkItemWrapper__3F2UE \"><a content=\"https://www.adapt.io/company/acacia-communications-inc-\" href=\"https://www.adapt.io/company/acacia-communications-inc-\">Acacia Communications</a></div><div class=\"DirectoryList_linkItemWrapper__3F2UE \"><a content=\"https://www.adapt.io/company/acbb-bits-llc\" href=\"https://www.adapt.io/company/acbb-bits-llc\">ACBB-BITS LLC</a></div><div class=\"DirectoryList_linkItemWrapper__3F2UE \"><a content=\"https://www.adapt.io/company/acc-business\" href=\"https://www.adapt.io/company/acc-business\">ACC Business</a></div><div class=\"DirectoryList_linkItemWrapper__3F2UE \"><a content=\"https://www.adapt.io/company/acceltex-solutions-2\" href=\"https://www.adapt.io/company/acceltex-solutions-2\">AccelTex Solutions</a></div><div class=\"DirectoryList_linkItemWrapper__3F2UE \"><a content=\"https://www.adapt.io/company/accesradio-com\" href=\"https://www.adapt.io/company/accesradio-com\">Acces Communications</a></div><div class=\"DirectoryList_linkItemWrapper__3F2UE \"><a content=\"https://www.adapt.io/company/access-communications-cooperative-limited\" href=\"https://www.adapt.io/company/access-communications-cooperative-limited\">Access Communications Cooperative Limited</a></div><div class=\"DirectoryList_linkItemWrapper__3F2UE \"><a content=\"https://www.adapt.io/company/access-point--inc--1\" href=\"https://www.adapt.io/company/access-point--inc--1\">Access Point, Inc.</a></div><div class=\"DirectoryList_linkItemWrapper__3F2UE \"><a content=\"https://www.adapt.io/company/access-vermont\" href=\"https://www.adapt.io/company/access-vermont\">Access Vermont</a></div><div class=\"DirectoryList_linkItemWrapper__3F2UE \"><a content=\"https://www.adapt.io/company/access-wireless-data-solutions\" href=\"https://www.adapt.io/company/access-wireless-data-solutions\">Access Wireless Data Solutions</a></div><div class=\"DirectoryList_linkItemWrapper__3F2UE \"><a content=\"https://www.adapt.io/company/accordent-technologies\" href=\"https://www.adapt.io/company/accordent-technologies\">Polycom</a></div><div class=\"DirectoryList_linkItemWrapper__3F2UE \"><a content=\"https://www.adapt.io/company/accrotool-com\" href=\"https://www.adapt.io/company/accrotool-com\">accrotool.com</a></div><div class=\"DirectoryList_linkItemWrapper__3F2UE \"><a content=\"https://www.adapt.io/company/accu-tech-corporation-1\" href=\"https://www.adapt.io/company/accu-tech-corporation-1\">Accu-Tech</a></div><div class=\"DirectoryList_linkItemWrapper__3F2UE \"><a content=\"https://www.adapt.io/company/accuair--inc-\" href=\"https://www.adapt.io/company/accuair--inc-\">AccuAir, Inc.</a></div><div class=\"DirectoryList_linkItemWrapper__3F2UE \"><a content=\"https://www.adapt.io/company/accuconference\" href=\"https://www.adapt.io/company/accuconference\">AccuConference</a></div><div class=\"DirectoryList_linkItemWrapper__3F2UE \"><a content=\"https://www.adapt.io/company/accurate-connections--inc-\" href=\"https://www.adapt.io/company/accurate-connections--inc-\">Accurate Connections, Inc.</a></div><div class=\"DirectoryList_linkItemWrapper__3F2UE \"><a content=\"https://www.adapt.io/company/accurate-telecom-1\" href=\"https://www.adapt.io/company/accurate-telecom-1\">Accurate Telecom</a></div><div class=\"DirectoryList_linkItemWrapper__3F2UE \"><a content=\"https://www.adapt.io/company/accutel-com-1\" href=\"https://www.adapt.io/company/accutel-com-1\">Accutel</a></div><div class=\"DirectoryList_linkItemWrapper__3F2UE \"><a content=\"https://www.adapt.io/company/accuvoice-inc-\" href=\"https://www.adapt.io/company/accuvoice-inc-\">Accuvoice Inc.</a></div><div class=\"DirectoryList_linkItemWrapper__3F2UE \"><a content=\"https://www.adapt.io/company/acd-direct\" href=\"https://www.adapt.io/company/acd-direct\">ACD Direct</a></div><div class=\"DirectoryList_linkItemWrapper__3F2UE \"><a content=\"https://www.adapt.io/company/acecape-inc-\" href=\"https://www.adapt.io/company/acecape-inc-\">Acecape Inc.</a></div><div class=\"DirectoryList_linkItemWrapper__3F2UE \"><a content=\"https://www.adapt.io/company/acg-systems--inc-1\" href=\"https://www.adapt.io/company/acg-systems--inc-1\">ACG Systems</a></div><div class=\"DirectoryList_linkItemWrapper__3F2UE \"><a content=\"https://www.adapt.io/company/aci-communications--inc-\" href=\"https://www.adapt.io/company/aci-communications--inc-\">ACI Communications</a></div><div class=\"DirectoryList_linkItemWrapper__3F2UE \"><a content=\"https://www.adapt.io/company/acision-2\" href=\"https://www.adapt.io/company/acision-2\">Acision</a></div><div class=\"DirectoryList_linkItemWrapper__3F2UE \"><a content=\"https://www.adapt.io/company/acn-29\" href=\"https://www.adapt.io/company/acn-29\">ACN</a></div><div class=\"DirectoryList_linkItemWrapper__3F2UE \"><a content=\"https://www.adapt.io/company/acn-30\" href=\"https://www.adapt.io/company/acn-30\">Lkn Communications Inc.</a></div><div class=\"DirectoryList_linkItemWrapper__3F2UE DirectoryList_noBorder__JnRfc\"><a content=\"https://www.adapt.io/company/acotel-groupo-1\" href=\"https://www.adapt.io/company/acotel-groupo-1\">Acotel</a></div><div class=\"DirectoryList_linkItemWrapper__3F2UE DirectoryList_noBorder__JnRfc\"><a content=\"https://www.adapt.io/company/acpltd-ca\" href=\"https://www.adapt.io/company/acpltd-ca\">Argosy Communication Products Ltd.</a></div></div></div><div class=\"DirectoryList_actionWrapper__2kJha\"><div class=\"DirectoryList_actionBtnLink__Seqhh undefined\"><a content=\"https://www.adapt.io/directory/industry/telecommunications/A-2\" href=\"https://www.adapt.io/directory/industry/telecommunications/A-2\">Next</a><div class=\"DirectoryList_iconWrapper__umG40\"><svg xmlns=\"http://www.w3.org/2000/svg\" viewBox=\"0 0 24 24\" width=\"48\" height=\"48\"><path fill=\"none\" d=\"M0 0h24v24H0z\"/><path d=\"M9.29 15.46l3.88-3.88L9.29 7.7a.996.996 0 111.41-1.41l4.59 4.59c.39.39.39 1.02 0 1.41l-4.59 4.59a.996.996 0 01-1.41 0c-.38-.39-.39-1.03 0-1.42z\"/></svg></div></div></div></div></div><footer class=\"Footer_footerContainer__13JG-\"><div class=\"Footer_footerWrapper__3iQA2\"><p><a href=\"/blog\" target=\"_blank\" itemProp=\"url\">Blog</a><a href=\"/privacy.htm\">Privacy</a><a href=\"/termsAndConditions.htm\">Terms of Use</a><a href=\"https://adaptio.freshdesk.com/support/solutions\" rel=\"nofollow\">FAQ</a><a title=\"contact us\" href=\"mailto:support@adapt.io\" target=\"_blank\" rel=\"nofollow\">Contact Us</a></p><p class=\"Footer_copyRightSection__1uJid\">\\xc2\\xa9 2021 All Rights Reserved. <!-- -->SLI Technologies Inc.</p></div></footer></main></div></div><script id=\"__NEXT_DATA__\" type=\"application/json\">{\"props\":{\"pageProps\":{\"isGoogleBot\":false,\"directoryDataStatus\":200,\"seoDirectoryTopInfoData\":{\"title\":\"Industry Directory - Telecommunications - A - 1\",\"showAlphabetLink\":true,\"activeLink\":\"A\"},\"seoDirectoryData\":{\"metaTitle\":\"Companies in Telecommunications industry | Alphabet A | B2B Company List | Adapt.io\",\"metaDescription\":\"Find the companies and top contacts working in Telecommunications industry that starts with alphabet A. Get the B2B company list at Adapt.io\",\"seoListLinks\":[{\"seoUrl\":\"a--communications-and-security\",\"name\":\"A + Communications and Security\"},{\"seoUrl\":\"a-a-technology-group\",\"name\":\"A\\\\u0026A Technology Group\"},{\"seoUrl\":\"a-better-answer-4\",\"name\":\"A Better Answer\"},{\"seoUrl\":\"a-cheerful-giver-inc-1\",\"name\":\"A Cheerful Giver\"},{\"seoUrl\":\"a-cti-1\",\"name\":\"A-CTI\"},{\"seoUrl\":\"a-p-g-inc\",\"name\":\"A P G Inc\"},{\"seoUrl\":\"a-r-management-solutions--llc\",\"name\":\"Crexendo Business Solutions\"},{\"seoUrl\":\"a-v--lauttamus-communications--inc-\",\"name\":\"A.V. Lauttamus Communications, Inc.\"},{\"seoUrl\":\"a-v-services--inc-\",\"name\":\"A-V Services, Inc.\"},{\"seoUrl\":\"a1-teletronics-inc-\",\"name\":\"A1 Teletronics\"},{\"seoUrl\":\"abacus-group--inc--1\",\"name\":\"Abacus Group, Inc.\"},{\"seoUrl\":\"abadi-group-1\",\"name\":\"Abadi Group\"},{\"seoUrl\":\"abcom-llc\",\"name\":\"ABcom\"},{\"seoUrl\":\"abilita-5\",\"name\":\"Abilita\"},{\"seoUrl\":\"abis-3\",\"name\":\"ABIS\"},{\"seoUrl\":\"abmnus-llc\",\"name\":\"Abmnus\"},{\"seoUrl\":\"about-wireless-1\",\"name\":\"Wireless USA\"},{\"seoUrl\":\"abovenet-2\",\"name\":\"AboveNet\"},{\"seoUrl\":\"abr-industries\",\"name\":\"ABR Industries\"},{\"seoUrl\":\"abs-communications-llc\",\"name\":\"ABS Communications\"},{\"seoUrl\":\"absolute-wireless-\",\"name\":\"Absolute Wireless\"},{\"seoUrl\":\"ac-photonics\",\"name\":\"acphotonics\"},{\"seoUrl\":\"acacia-communications-inc-\",\"name\":\"Acacia Communications\"},{\"seoUrl\":\"acbb-bits-llc\",\"name\":\"ACBB-BITS LLC\"},{\"seoUrl\":\"acc-business\",\"name\":\"ACC Business\"},{\"seoUrl\":\"acceltex-solutions-2\",\"name\":\"AccelTex Solutions\"},{\"seoUrl\":\"accesradio-com\",\"name\":\"Acces Communications\"},{\"seoUrl\":\"access-communications-cooperative-limited\",\"name\":\"Access Communications Cooperative Limited\"},{\"seoUrl\":\"access-point--inc--1\",\"name\":\"Access Point, Inc.\"},{\"seoUrl\":\"access-vermont\",\"name\":\"Access Vermont\"},{\"seoUrl\":\"access-wireless-data-solutions\",\"name\":\"Access Wireless Data Solutions\"},{\"seoUrl\":\"accordent-technologies\",\"name\":\"Polycom\"},{\"seoUrl\":\"accrotool-com\",\"name\":\"accrotool.com\"},{\"seoUrl\":\"accu-tech-corporation-1\",\"name\":\"Accu-Tech\"},{\"seoUrl\":\"accuair--inc-\",\"name\":\"AccuAir, Inc.\"},{\"seoUrl\":\"accuconference\",\"name\":\"AccuConference\"},{\"seoUrl\":\"accurate-connections--inc-\",\"name\":\"Accurate Connections, Inc.\"},{\"seoUrl\":\"accurate-telecom-1\",\"name\":\"Accurate Telecom\"},{\"seoUrl\":\"accutel-com-1\",\"name\":\"Accutel\"},{\"seoUrl\":\"accuvoice-inc-\",\"name\":\"Accuvoice Inc.\"},{\"seoUrl\":\"acd-direct\",\"name\":\"ACD Direct\"},{\"seoUrl\":\"acecape-inc-\",\"name\":\"Acecape Inc.\"},{\"seoUrl\":\"acg-systems--inc-1\",\"name\":\"ACG Systems\"},{\"seoUrl\":\"aci-communications--inc-\",\"name\":\"ACI Communications\"},{\"seoUrl\":\"acision-2\",\"name\":\"Acision\"},{\"seoUrl\":\"acn-29\",\"name\":\"ACN\"},{\"seoUrl\":\"acn-30\",\"name\":\"Lkn Communications Inc.\"},{\"seoUrl\":\"acotel-groupo-1\",\"name\":\"Acotel\"},{\"seoUrl\":\"acpltd-ca\",\"name\":\"Argosy Communication Products Ltd.\"}],\"nextUrl\":\"A-2\",\"prevUrl\":null,\"industryName\":\"Telecommunications\",\"activePath\":\"A\",\"activePathNumber\":1,\"alphabetPrefixLink\":\"/directory/industry/telecommunications\"},\"seoPath\":\"telecommunications/A-1\"},\"__N_SSP\":true},\"page\":\"/directory/industry/[...industryDirectorySeoPath]\",\"query\":{\"industryDirectorySeoPath\":[\"telecommunications\",\"A-1\"]},\"buildId\":\"L61aXl6qr4EBsldiDW3ux\",\"isFallback\":false,\"gssp\":true,\"locale\":\"en-US\",\"locales\":[\"en-US\"],\"defaultLocale\":\"en-US\"}</script><script nomodule=\"\" src=\"/_next/static/chunks/polyfills-68084dacc4bae4cb362b.js\"></script><script src=\"/_next/static/chunks/main-7b0370ae5ee8ca69a8e3.js\" async=\"\"></script><script src=\"/_next/static/chunks/webpack-324a97b9e09a33133866.js\" async=\"\"></script><script src=\"/_next/static/chunks/framework.eb7e4030fecc3bcac0db.js\" async=\"\"></script><script src=\"/_next/static/chunks/44ca27d0083750f9c52e4c9c7da7ba5e37d0c178.7652ce0a15a0aa80a0a1.js\" async=\"\"></script><script src=\"/_next/static/chunks/pages/_app-e684ee83e9a1f6a153f2.js\" async=\"\"></script><script src=\"/_next/static/chunks/e82996df.80fc43e08d188cb71862.js\" async=\"\"></script><script src=\"/_next/static/chunks/c0d53ec4.f13d42fc01398e9ef007.js\" async=\"\"></script><script src=\"/_next/static/chunks/3aabab4ccf84bf1027139b25c3cf6691b36093cc.d168ea96714052437202.js\" async=\"\"></script><script src=\"/_next/static/chunks/d5ea0434147ae87205344fc99fa6f1a10ee48c6d.0896faa6ebfd9a40bdc9.js\" async=\"\"></script><script src=\"/_next/static/chunks/3a9a53ed6d026461dac72307bb72fdcc2922b04e.d49be9254d0721833d14.js\" async=\"\"></script><script src=\"/_next/static/chunks/3a9a53ed6d026461dac72307bb72fdcc2922b04e_CSS.ceef42eb591200e32412.js\" async=\"\"></script><script src=\"/_next/static/chunks/pages/directory/industry/%5B...industryDirectorySeoPath%5D-5c73d6afb936901f63de.js\" async=\"\"></script><script src=\"/_next/static/L61aXl6qr4EBsldiDW3ux/_buildManifest.js\" async=\"\"></script><script src=\"/_next/static/L61aXl6qr4EBsldiDW3ux/_ssgManifest.js\" async=\"\"></script></body></html>'\n"
     ]
    }
   ],
   "source": [
    "print(response2.content)"
   ]
  },
  {
   "cell_type": "code",
   "execution_count": 277,
   "metadata": {},
   "outputs": [],
   "source": [
    "assert response2.status_code == 200"
   ]
  },
  {
   "cell_type": "markdown",
   "metadata": {},
   "source": [
    "I used InnoDB as it is a storage engine of MySQL. MySQL uses this database by default, and in my opinion, InnoDB balances high reliability and performance.\n"
   ]
  }
 ],
 "metadata": {
  "kernelspec": {
   "display_name": "Python 3",
   "language": "python",
   "name": "python3"
  },
  "language_info": {
   "codemirror_mode": {
    "name": "ipython",
    "version": 3
   },
   "file_extension": ".py",
   "mimetype": "text/x-python",
   "name": "python",
   "nbconvert_exporter": "python",
   "pygments_lexer": "ipython3",
   "version": "3.8.5"
  }
 },
 "nbformat": 4,
 "nbformat_minor": 4
}
